{
 "cells": [
  {
   "cell_type": "code",
   "execution_count": 1,
   "metadata": {},
   "outputs": [],
   "source": [
    "###Cargando los paquetes \n",
    "using JuMP, HiGHS, LinearAlgebra, Plots, Random, CSV, DataFrames, XLSX"
   ]
  },
  {
   "cell_type": "code",
   "execution_count": 2,
   "metadata": {},
   "outputs": [
    {
     "name": "stdout",
     "output_type": "stream",
     "text": [
      "El tipo de G es\n",
      "XLSX.DataTable\n",
      "\n"
     ]
    },
    {
     "name": "stdout",
     "output_type": "stream",
     "text": [
      "G.data es\n",
      "Any[Any"
     ]
    },
    {
     "name": "stdout",
     "output_type": "stream",
     "text": [
      "[\"Oatmeal\", \"Chicken \", \"Eggs\", \"Whole milk \", \"Cherry pie \", \"Pork with beans \", \"Minimo \"],"
     ]
    },
    {
     "name": "stdout",
     "output_type": "stream",
     "text": [
      " Any[4.0, 32.0, 13.0, 8.0, 4.0, 14.0, 55.0], Any[2.0, 12.0, 54.0, 285.0, 22.0, 80.0, 800.0], Any[12.0, 0.0, 1.0, 10.0, 39.0, 48.0, 60.0], Any[2.0, 14.0, 11.0, 4.0, "
     ]
    },
    {
     "name": "stdout",
     "output_type": "stream",
     "text": [
      "12.0, 3.0, 60.0], Any[2000.0, 6000.0, 5000.0, 1000.0, 10000.0, 3000.0, missing], Any[4.0, 3.0, 2.0, 8.0, 2.0, 2.0, missing], Any[0.0, 1.0, 0.0, 0.0, 0.0, 0.0, missing], Any[1.0, 0.0, 0.0, 0.0, 0.0, 0.0, missing], Any[0.0, 0.0, 0.0, 0.0, 0.0,"
     ]
    },
    {
     "name": "stdout",
     "output_type": "stream",
     "text": [
      " 1.0, missing], Any[0.0, 0.0, 0.0, 0.0, 1.0, 0.0, missing]]\n",
      "\n",
      "G.column_labels es\n"
     ]
    },
    {
     "name": "stdout",
     "output_type": "stream",
     "text": [
      "[:Food, Symbol(\"Protein \"), Symbol(\"Calcium \"), :Carbohidratos, :Grasas, Symbol(\"Price per seving \"), Symbol(\"Limit per day \"), :Manuel, Symbol(\"Seba Lillo \"), Symbol(\"Seba Fuenzalida\"), Symbol(\"Alberto \")]\n"
     ]
    }
   ],
   "source": [
    "#Cargamos los datos que se encuentran en la otra hoja del excel \n",
    "G=XLSX.readtable(\"DietProblemPollyModificado.xlsx\",\"Data parte e\")\n",
    "### Tipo de G\n",
    "println(\"El tipo de G es\\n\",typeof(G),\"\\n\")\n",
    "### G tiene dos componentes: G.data y G.column_labels\n",
    "println(\"G.data es\\n\",G.data,\"\\n\")\n",
    "println(\"G.column_labels es\\n\",G.column_labels)"
   ]
  },
  {
   "cell_type": "code",
   "execution_count": 3,
   "metadata": {},
   "outputs": [
    {
     "data": {
      "text/html": [
       "<div><div style = \"float: left;\"><span>7×11 DataFrame</span></div><div style = \"clear: both;\"></div></div><div class = \"data-frame\" style = \"overflow-x: scroll;\"><table class = \"data-frame\" style = \"margin-bottom: 6px;\"><thead><tr class = \"header\"><th class = \"rowNumber\" style = \"font-weight: bold; text-align: right;\">Row</th><th style = \"text-align: left;\">Food</th><th style = \"text-align: left;\">Protein </th><th style = \"text-align: left;\">Calcium </th><th style = \"text-align: left;\">Carbohidratos</th><th style = \"text-align: left;\">Grasas</th><th style = \"text-align: left;\">Price per seving </th><th style = \"text-align: left;\">Limit per day </th><th style = \"text-align: left;\">Manuel</th><th style = \"text-align: left;\">Seba Lillo </th><th style = \"text-align: left;\">Seba Fuenzalida</th><th style = \"text-align: left;\">Alberto </th></tr><tr class = \"subheader headerLastRow\"><th class = \"rowNumber\" style = \"font-weight: bold; text-align: right;\"></th><th title = \"Any\" style = \"text-align: left;\">Any</th><th title = \"Any\" style = \"text-align: left;\">Any</th><th title = \"Any\" style = \"text-align: left;\">Any</th><th title = \"Any\" style = \"text-align: left;\">Any</th><th title = \"Any\" style = \"text-align: left;\">Any</th><th title = \"Any\" style = \"text-align: left;\">Any</th><th title = \"Any\" style = \"text-align: left;\">Any</th><th title = \"Any\" style = \"text-align: left;\">Any</th><th title = \"Any\" style = \"text-align: left;\">Any</th><th title = \"Any\" style = \"text-align: left;\">Any</th><th title = \"Any\" style = \"text-align: left;\">Any</th></tr></thead><tbody><tr><td class = \"rowNumber\" style = \"font-weight: bold; text-align: right;\">1</td><td style = \"text-align: left;\">Oatmeal</td><td style = \"text-align: left;\">4.0</td><td style = \"text-align: left;\">2.0</td><td style = \"text-align: left;\">12.0</td><td style = \"text-align: left;\">2.0</td><td style = \"text-align: left;\">2000.0</td><td style = \"text-align: left;\">4.0</td><td style = \"text-align: left;\">0.0</td><td style = \"text-align: left;\">1.0</td><td style = \"text-align: left;\">0.0</td><td style = \"text-align: left;\">0.0</td></tr><tr><td class = \"rowNumber\" style = \"font-weight: bold; text-align: right;\">2</td><td style = \"text-align: left;\">Chicken </td><td style = \"text-align: left;\">32.0</td><td style = \"text-align: left;\">12.0</td><td style = \"text-align: left;\">0.0</td><td style = \"text-align: left;\">14.0</td><td style = \"text-align: left;\">6000.0</td><td style = \"text-align: left;\">3.0</td><td style = \"text-align: left;\">1.0</td><td style = \"text-align: left;\">0.0</td><td style = \"text-align: left;\">0.0</td><td style = \"text-align: left;\">0.0</td></tr><tr><td class = \"rowNumber\" style = \"font-weight: bold; text-align: right;\">3</td><td style = \"text-align: left;\">Eggs</td><td style = \"text-align: left;\">13.0</td><td style = \"text-align: left;\">54.0</td><td style = \"text-align: left;\">1.0</td><td style = \"text-align: left;\">11.0</td><td style = \"text-align: left;\">5000.0</td><td style = \"text-align: left;\">2.0</td><td style = \"text-align: left;\">0.0</td><td style = \"text-align: left;\">0.0</td><td style = \"text-align: left;\">0.0</td><td style = \"text-align: left;\">0.0</td></tr><tr><td class = \"rowNumber\" style = \"font-weight: bold; text-align: right;\">4</td><td style = \"text-align: left;\">Whole milk </td><td style = \"text-align: left;\">8.0</td><td style = \"text-align: left;\">285.0</td><td style = \"text-align: left;\">10.0</td><td style = \"text-align: left;\">4.0</td><td style = \"text-align: left;\">1000.0</td><td style = \"text-align: left;\">8.0</td><td style = \"text-align: left;\">0.0</td><td style = \"text-align: left;\">0.0</td><td style = \"text-align: left;\">0.0</td><td style = \"text-align: left;\">0.0</td></tr><tr><td class = \"rowNumber\" style = \"font-weight: bold; text-align: right;\">5</td><td style = \"text-align: left;\">Cherry pie </td><td style = \"text-align: left;\">4.0</td><td style = \"text-align: left;\">22.0</td><td style = \"text-align: left;\">39.0</td><td style = \"text-align: left;\">12.0</td><td style = \"text-align: left;\">10000.0</td><td style = \"text-align: left;\">2.0</td><td style = \"text-align: left;\">0.0</td><td style = \"text-align: left;\">0.0</td><td style = \"text-align: left;\">0.0</td><td style = \"text-align: left;\">1.0</td></tr><tr><td class = \"rowNumber\" style = \"font-weight: bold; text-align: right;\">6</td><td style = \"text-align: left;\">Pork with beans </td><td style = \"text-align: left;\">14.0</td><td style = \"text-align: left;\">80.0</td><td style = \"text-align: left;\">48.0</td><td style = \"text-align: left;\">3.0</td><td style = \"text-align: left;\">3000.0</td><td style = \"text-align: left;\">2.0</td><td style = \"text-align: left;\">0.0</td><td style = \"text-align: left;\">0.0</td><td style = \"text-align: left;\">1.0</td><td style = \"text-align: left;\">0.0</td></tr><tr><td class = \"rowNumber\" style = \"font-weight: bold; text-align: right;\">7</td><td style = \"text-align: left;\">Minimo </td><td style = \"text-align: left;\">55.0</td><td style = \"text-align: left;\">800.0</td><td style = \"text-align: left;\">60.0</td><td style = \"text-align: left;\">60.0</td><td style = \"font-style: italic; text-align: left;\">missing</td><td style = \"font-style: italic; text-align: left;\">missing</td><td style = \"font-style: italic; text-align: left;\">missing</td><td style = \"font-style: italic; text-align: left;\">missing</td><td style = \"font-style: italic; text-align: left;\">missing</td><td style = \"font-style: italic; text-align: left;\">missing</td></tr></tbody></table></div>"
      ],
      "text/latex": [
       "\\begin{tabular}{r|ccccccc}\n",
       "\t& Food & Protein  & Calcium  & Carbohidratos & Grasas & Price per seving  & \\\\\n",
       "\t\\hline\n",
       "\t& Any & Any & Any & Any & Any & Any & \\\\\n",
       "\t\\hline\n",
       "\t1 & Oatmeal & 4.0 & 2.0 & 12.0 & 2.0 & 2000.0 & $\\dots$ \\\\\n",
       "\t2 & Chicken  & 32.0 & 12.0 & 0.0 & 14.0 & 6000.0 & $\\dots$ \\\\\n",
       "\t3 & Eggs & 13.0 & 54.0 & 1.0 & 11.0 & 5000.0 & $\\dots$ \\\\\n",
       "\t4 & Whole milk  & 8.0 & 285.0 & 10.0 & 4.0 & 1000.0 & $\\dots$ \\\\\n",
       "\t5 & Cherry pie  & 4.0 & 22.0 & 39.0 & 12.0 & 10000.0 & $\\dots$ \\\\\n",
       "\t6 & Pork with beans  & 14.0 & 80.0 & 48.0 & 3.0 & 3000.0 & $\\dots$ \\\\\n",
       "\t7 & Minimo  & 55.0 & 800.0 & 60.0 & 60.0 & \\emph{missing} & $\\dots$ \\\\\n",
       "\\end{tabular}\n"
      ],
      "text/plain": [
       "\u001b[1m7×11 DataFrame\u001b[0m\n",
       "\u001b[1m Row \u001b[0m│\u001b[1m Food             \u001b[0m\u001b[1m Protein  \u001b[0m\u001b[1m Calcium  \u001b[0m\u001b[1m Carbohidratos \u001b[0m\u001b[1m Grasas \u001b[0m\u001b[1m Price per \u001b[0m ⋯\n",
       "     │\u001b[90m Any              \u001b[0m\u001b[90m Any      \u001b[0m\u001b[90m Any      \u001b[0m\u001b[90m Any           \u001b[0m\u001b[90m Any    \u001b[0m\u001b[90m Any       \u001b[0m ⋯\n",
       "─────┼──────────────────────────────────────────────────────────────────────────\n",
       "   1 │ Oatmeal           4.0       2.0       12.0           2.0     2000.0     ⋯\n",
       "   2 │ Chicken           32.0      12.0      0.0            14.0    6000.0\n",
       "   3 │ Eggs              13.0      54.0      1.0            11.0    5000.0\n",
       "   4 │ Whole milk        8.0       285.0     10.0           4.0     1000.0\n",
       "   5 │ Cherry pie        4.0       22.0      39.0           12.0    10000.0    ⋯\n",
       "   6 │ Pork with beans   14.0      80.0      48.0           3.0     3000.0\n",
       "   7 │ Minimo            55.0      800.0     60.0           60.0   \u001b[90m missing   \u001b[0m\n",
       "\u001b[36m                                                               6 columns omitted\u001b[0m"
      ]
     },
     "metadata": {},
     "output_type": "display_data"
    }
   ],
   "source": [
    "data = DataFrame(G);\n",
    "display(data)"
   ]
  },
  {
   "cell_type": "code",
   "execution_count": 9,
   "metadata": {},
   "outputs": [
    {
     "name": "stdout",
     "output_type": "stream",
     "text": [
      "Feasibility\n",
      "Subject to\n"
     ]
    },
    {
     "name": "stdout",
     "output_type": "stream",
     "text": [
      "\n"
     ]
    },
    {
     "data": {
      "text/plain": [
       "3"
      ]
     },
     "metadata": {},
     "output_type": "display_data"
    }
   ],
   "source": [
    "###Creando el modelo en conjunto con el solver a usar\n",
    "modelo = Model(HiGHS.Optimizer) \n",
    "println(modelo)\n",
    "\n",
    "n=6\n",
    "m=3\n"
   ]
  },
  {
   "cell_type": "code",
   "execution_count": 10,
   "metadata": {},
   "outputs": [
    {
     "data": {
      "text/plain": [
       "1-dimensional DenseAxisArray{ConstraintRef{Model, MathOptInterface.ConstraintIndex{MathOptInterface.ScalarAffineFunction{Float64}, MathOptInterface.GreaterThan{Float64}}, ScalarShape},1,...} with index sets:\n",
       "    Dimension 1, 8:11\n",
       "And data, a 4-element Vector{ConstraintRef{Model, MathOptInterface.ConstraintIndex{MathOptInterface.ScalarAffineFunction{Float64}, MathOptInterface.GreaterThan{Float64}}, ScalarShape}}:\n",
       " preferencia[8] : x[2] >= 1.0\n",
       " preferencia[9] : x[1] >= 1.0\n",
       " preferencia[10] : x[6] >= 1.0\n",
       " preferencia[11] : x[5] >= 1.0"
      ]
     },
     "metadata": {},
     "output_type": "display_data"
    }
   ],
   "source": [
    "@variable(modelo, x[1:6]>=0,Int) #esto crea el arreglo [x[1] ,...,x[6]]\n",
    "#agregamos las restricciones de nutrientes\n",
    "@constraint(modelo, protein[j in 2:5], sum(x[i]*data[i,j] for i in 1:6) >= data[7,j])\n",
    "#agregamos las restricciones de limite de servings per day\n",
    "@constraint(modelo, limit[i in 1:6],x[i]<=data[i,7])\n",
    "#agregamos las restricciones de preferencia de comidas\n",
    "@constraint(modelo, preferencia[j in 8:11], sum(x[i]*data[i,j] for i in 1:6)>=1)"
   ]
  },
  {
   "cell_type": "code",
   "execution_count": 11,
   "metadata": {},
   "outputs": [
    {
     "name": "stdout",
     "output_type": "stream",
     "text": [
      "Min 2000 x[1] + 6000 x[2] + 5000 x[3] + 1000 x[4] + 10000 x[5] + 3000 x[6]\n",
      "Subject to\n",
      " protein[2] : 4 x[1] + 32 x[2] + 13 x[3] + 8 x[4] + 4 x[5] + 14 x[6] >= 55.0\n",
      " protein[3] : 2 x[1] + 12 x[2] + 54 x[3] + 285 x[4] + 22 x[5] + 80 x[6] >= 800.0\n",
      " protein[4] : 12 x[1] + x[3] + 10 x[4] + 39 x[5] + 48 x[6] >= 60.0\n",
      " protein[5] : 2 x[1] + 14 x[2] + 11 x[3] + 4 x[4] + 12 x[5] + 3 x[6] >= 60.0\n",
      " preferencia[8] : x[2] >= 1.0\n",
      " preferencia[9] : x[1] >= 1.0\n",
      " preferencia[10] : x[6] >= 1.0\n",
      " preferencia[11] : x[5] >= 1.0\n",
      " limit[1] : x[1] <= 4.0\n",
      " limit[2] : x[2] <= 3.0\n",
      " limit[3] : x[3] <= 2.0\n",
      " limit[4] : x[4] <= 8.0\n"
     ]
    },
    {
     "name": "stdout",
     "output_type": "stream",
     "text": [
      " limit[5] : x[5] <= 2.0\n",
      " limit[6] : x[6] <= 2.0\n",
      " x[1] >= 0.0\n",
      " x[2] >= 0.0\n",
      " x[3] >= 0.0\n",
      " x[4] >= 0.0\n",
      " x[5] >= 0.0\n",
      " x[6] >= 0.0\n",
      " x[1] integer\n",
      " x[2] integer\n",
      " x[3] integer\n",
      " x[4] integer\n",
      " x[5] integer\n",
      " x[6] integer\n",
      "\n"
     ]
    }
   ],
   "source": [
    "@objective(modelo, Min, sum(x[i]*data[i,6] for i in 1:6))\n",
    "println(modelo)"
   ]
  },
  {
   "cell_type": "code",
   "execution_count": 12,
   "metadata": {},
   "outputs": [
    {
     "name": "stdout",
     "output_type": "stream",
     "text": [
      "Running HiGHS 1.4.2 [date: 1970-01-01, git hash: f797c1ab6]\n",
      "Copyright (c) 2022 ERGO-Code under MIT licence terms\n",
      "Presolving model\n",
      "4 rows, 6 cols, 23 nonzeros\n",
      "2 rows, 6 cols, 12 nonzeros\n",
      "Objective function is integral with scale 0.001\n",
      "\n",
      "Solving MIP model with:\n",
      "   2 rows\n",
      "   6 cols (2 binary, 4 integer, 0 implied int., 0 continuous)\n",
      "   12 nonzeros\n",
      "\n",
      "        Nodes      |    B&B Tree     |            Objective Bounds              |  Dynamic Constraints |       Work      \n",
      "     Proc. InQueue |  Leaves   Expl. | BestBound       BestSol              Gap |   Cuts   InLp Confl. | LpIters     Time\n",
      "\n",
      "         0       0         0   0.00%   23000           inf                  inf        0      0      0         0     0.0s\n",
      "\n",
      "Solving report\n",
      "  Status            Optimal\n",
      "  Primal bound      29000\n",
      "  Dual bound        29000\n",
      "  Gap               0% (tolerance: 0.01%)\n",
      "  Solution status   feasible\n",
      "                    29000 (objective)\n",
      "                    0 (bound viol.)\n",
      "                    0 (int. viol.)\n",
      "                    0 (row viol.)\n",
      "  Timing            0.00 (total)\n",
      "                    0.00 (presolve)\n",
      "                    0.00 (postsolve)\n",
      "  Nodes             1\n",
      "  LP iterations     1 (total)\n",
      "                    0 (strong br.)\n",
      "                    0 (separation)\n",
      "                    0 (heuristics)\n",
      "Optimal value: 29000.0\n"
     ]
    }
   ],
   "source": [
    "# Resolver el problema de optimización con HiGHS\n",
    "optimize!(modelo)\n",
    "\n",
    "println(\"Optimal value: \", objective_value(modelo))"
   ]
  },
  {
   "cell_type": "code",
   "execution_count": 13,
   "metadata": {},
   "outputs": [
    {
     "name": "stdout",
     "output_type": "stream",
     "text": [
      "El valor de x[1] es 1.0\n",
      "El valor de x[2] es 1.0\n",
      "El valor de x[3] es 0.0\n",
      "El valor de x[4] es 8.0\n",
      "El valor de x[5] es 1.0\n",
      "El valor de x[6] es 1.0\n"
     ]
    }
   ],
   "source": [
    "for i in 1:6\n",
    "    println(\"El valor de $(x[i]) es \",value(x[i]))\n",
    "end"
   ]
  },
  {
   "cell_type": "code",
   "execution_count": null,
   "metadata": {},
   "outputs": [],
   "source": []
  },
  {
   "cell_type": "code",
   "execution_count": null,
   "metadata": {},
   "outputs": [],
   "source": []
  }
 ],
 "metadata": {
  "kernelspec": {
   "display_name": "Julia 1.8.5",
   "language": "julia",
   "name": "julia-1.8"
  },
  "language_info": {
   "file_extension": ".jl",
   "mimetype": "application/julia",
   "name": "julia",
   "version": "1.8.5"
  },
  "orig_nbformat": 4
 },
 "nbformat": 4,
 "nbformat_minor": 2
}
