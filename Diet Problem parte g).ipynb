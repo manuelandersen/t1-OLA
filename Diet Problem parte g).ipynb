{
 "cells": [
  {
   "cell_type": "code",
   "execution_count": 1,
   "metadata": {},
   "outputs": [],
   "source": [
    "###Cargando los paquetes \n",
    "using JuMP, HiGHS, LinearAlgebra, Plots, Random, CSV, DataFrames, XLSX"
   ]
  },
  {
   "cell_type": "code",
   "execution_count": 2,
   "metadata": {},
   "outputs": [
    {
     "name": "stdout",
     "output_type": "stream",
     "text": [
      "El tipo de G es\n",
      "XLSX.DataTable\n",
      "\n"
     ]
    },
    {
     "name": "stdout",
     "output_type": "stream",
     "text": [
      "G.data es\n",
      "Any["
     ]
    },
    {
     "name": "stdout",
     "output_type": "stream",
     "text": [
      "Any["
     ]
    },
    {
     "name": "stdout",
     "output_type": "stream",
     "text": [
      "\"Oatmeal\", \"Chicken \", \"Eggs\", \"Whole milk \", \"Cherry pie \", \"Pork with beans \", \"Minimo \"], Any[4.0, 32.0, 13.0, 8.0, 4.0, 14.0, 55.0], Any[2.0, 12.0, 54.0, 285.0, 22.0, 80.0, 800.0], Any[3.0, 24.0, 13.0, 9.0, 20.0, 19.0, "
     ]
    },
    {
     "name": "stdout",
     "output_type": "stream",
     "text": [
      "missing], Any[4.0, 3.0, 2.0, 8.0, 2.0, 2.0, missing]]\n",
      "\n"
     ]
    },
    {
     "name": "stdout",
     "output_type": "stream",
     "text": [
      "G.column_labels es\n"
     ]
    },
    {
     "name": "stdout",
     "output_type": "stream",
     "text": [
      "[:Food, Symbol(\"Protein \"), Symbol(\"Calcium \"), Symbol(\"Price per seving \"), Symbol(\"Limit per day \")]\n"
     ]
    }
   ],
   "source": [
    "#Cargamos los datos \n",
    "G=XLSX.readtable(\"DietProblemPolly.xlsx\",\"Data\")\n",
    "### Tipo de G\n",
    "println(\"El tipo de G es\\n\",typeof(G),\"\\n\")\n",
    "### G tiene dos componentes: G.data y G.column_labels\n",
    "println(\"G.data es\\n\",G.data,\"\\n\")\n",
    "println(\"G.column_labels es\\n\",G.column_labels)"
   ]
  },
  {
   "cell_type": "code",
   "execution_count": 3,
   "metadata": {},
   "outputs": [
    {
     "data": {
      "text/html": [
       "<div><div style = \"float: left;\"><span>7×5 DataFrame</span></div><div style = \"clear: both;\"></div></div><div class = \"data-frame\" style = \"overflow-x: scroll;\"><table class = \"data-frame\" style = \"margin-bottom: 6px;\"><thead><tr class = \"header\"><th class = \"rowNumber\" style = \"font-weight: bold; text-align: right;\">Row</th><th style = \"text-align: left;\">Food</th><th style = \"text-align: left;\">Protein </th><th style = \"text-align: left;\">Calcium </th><th style = \"text-align: left;\">Price per seving </th><th style = \"text-align: left;\">Limit per day </th></tr><tr class = \"subheader headerLastRow\"><th class = \"rowNumber\" style = \"font-weight: bold; text-align: right;\"></th><th title = \"Any\" style = \"text-align: left;\">Any</th><th title = \"Any\" style = \"text-align: left;\">Any</th><th title = \"Any\" style = \"text-align: left;\">Any</th><th title = \"Any\" style = \"text-align: left;\">Any</th><th title = \"Any\" style = \"text-align: left;\">Any</th></tr></thead><tbody><tr><td class = \"rowNumber\" style = \"font-weight: bold; text-align: right;\">1</td><td style = \"text-align: left;\">Oatmeal</td><td style = \"text-align: left;\">4.0</td><td style = \"text-align: left;\">2.0</td><td style = \"text-align: left;\">3.0</td><td style = \"text-align: left;\">4.0</td></tr><tr><td class = \"rowNumber\" style = \"font-weight: bold; text-align: right;\">2</td><td style = \"text-align: left;\">Chicken </td><td style = \"text-align: left;\">32.0</td><td style = \"text-align: left;\">12.0</td><td style = \"text-align: left;\">24.0</td><td style = \"text-align: left;\">3.0</td></tr><tr><td class = \"rowNumber\" style = \"font-weight: bold; text-align: right;\">3</td><td style = \"text-align: left;\">Eggs</td><td style = \"text-align: left;\">13.0</td><td style = \"text-align: left;\">54.0</td><td style = \"text-align: left;\">13.0</td><td style = \"text-align: left;\">2.0</td></tr><tr><td class = \"rowNumber\" style = \"font-weight: bold; text-align: right;\">4</td><td style = \"text-align: left;\">Whole milk </td><td style = \"text-align: left;\">8.0</td><td style = \"text-align: left;\">285.0</td><td style = \"text-align: left;\">9.0</td><td style = \"text-align: left;\">8.0</td></tr><tr><td class = \"rowNumber\" style = \"font-weight: bold; text-align: right;\">5</td><td style = \"text-align: left;\">Cherry pie </td><td style = \"text-align: left;\">4.0</td><td style = \"text-align: left;\">22.0</td><td style = \"text-align: left;\">20.0</td><td style = \"text-align: left;\">2.0</td></tr><tr><td class = \"rowNumber\" style = \"font-weight: bold; text-align: right;\">6</td><td style = \"text-align: left;\">Pork with beans </td><td style = \"text-align: left;\">14.0</td><td style = \"text-align: left;\">80.0</td><td style = \"text-align: left;\">19.0</td><td style = \"text-align: left;\">2.0</td></tr><tr><td class = \"rowNumber\" style = \"font-weight: bold; text-align: right;\">7</td><td style = \"text-align: left;\">Minimo </td><td style = \"text-align: left;\">55.0</td><td style = \"text-align: left;\">800.0</td><td style = \"font-style: italic; text-align: left;\">missing</td><td style = \"font-style: italic; text-align: left;\">missing</td></tr></tbody></table></div>"
      ],
      "text/latex": [
       "\\begin{tabular}{r|ccccc}\n",
       "\t& Food & Protein  & Calcium  & Price per seving  & Limit per day \\\\\n",
       "\t\\hline\n",
       "\t& Any & Any & Any & Any & Any\\\\\n",
       "\t\\hline\n",
       "\t1 & Oatmeal & 4.0 & 2.0 & 3.0 & 4.0 \\\\\n",
       "\t2 & Chicken  & 32.0 & 12.0 & 24.0 & 3.0 \\\\\n",
       "\t3 & Eggs & 13.0 & 54.0 & 13.0 & 2.0 \\\\\n",
       "\t4 & Whole milk  & 8.0 & 285.0 & 9.0 & 8.0 \\\\\n",
       "\t5 & Cherry pie  & 4.0 & 22.0 & 20.0 & 2.0 \\\\\n",
       "\t6 & Pork with beans  & 14.0 & 80.0 & 19.0 & 2.0 \\\\\n",
       "\t7 & Minimo  & 55.0 & 800.0 & \\emph{missing} & \\emph{missing} \\\\\n",
       "\\end{tabular}\n"
      ],
      "text/plain": [
       "\u001b[1m7×5 DataFrame\u001b[0m\n",
       "\u001b[1m Row \u001b[0m│\u001b[1m Food             \u001b[0m\u001b[1m Protein  \u001b[0m\u001b[1m Calcium  \u001b[0m\u001b[1m Price per seving  \u001b[0m\u001b[1m Limit per day \u001b[0m ⋯\n",
       "     │\u001b[90m Any              \u001b[0m\u001b[90m Any      \u001b[0m\u001b[90m Any      \u001b[0m\u001b[90m Any               \u001b[0m\u001b[90m Any           \u001b[0m ⋯\n",
       "─────┼──────────────────────────────────────────────────────────────────────────\n",
       "   1 │ Oatmeal           4.0       2.0       3.0                4.0            ⋯\n",
       "   2 │ Chicken           32.0      12.0      24.0               3.0\n",
       "   3 │ Eggs              13.0      54.0      13.0               2.0\n",
       "   4 │ Whole milk        8.0       285.0     9.0                8.0\n",
       "   5 │ Cherry pie        4.0       22.0      20.0               2.0            ⋯\n",
       "   6 │ Pork with beans   14.0      80.0      19.0               2.0\n",
       "   7 │ Minimo            55.0      800.0    \u001b[90m missing           \u001b[0m\u001b[90m missing       \u001b[0m"
      ]
     },
     "metadata": {},
     "output_type": "display_data"
    }
   ],
   "source": [
    "data = DataFrame(G);\n",
    "display(data)"
   ]
  },
  {
   "cell_type": "code",
   "execution_count": 15,
   "metadata": {},
   "outputs": [
    {
     "name": "stdout",
     "output_type": "stream",
     "text": [
      "Feasibility\n",
      "Subject to\n",
      "\n"
     ]
    },
    {
     "data": {
      "text/plain": [
       "3"
      ]
     },
     "metadata": {},
     "output_type": "display_data"
    }
   ],
   "source": [
    "###Creando el modelo en conjunto con el solver a usar\n",
    "modelo = Model(HiGHS.Optimizer) \n",
    "println(modelo)\n",
    "\n",
    "n=6\n",
    "m=3\n",
    "B=3\n"
   ]
  },
  {
   "cell_type": "code",
   "execution_count": 16,
   "metadata": {},
   "outputs": [
    {
     "data": {
      "text/latex": [
       "limiteComidas : $ y_{1} + y_{2} + y_{3} + y_{4} + y_{5} + y_{6} \\leq 3.0 $"
      ],
      "text/plain": [
       "limiteComidas : y[1] + y[2] + y[3] + y[4] + y[5] + y[6] <= 3.0"
      ]
     },
     "metadata": {},
     "output_type": "display_data"
    }
   ],
   "source": [
    "#creamos variables para ver cuantas porciones de cada comida son\n",
    "@variable(modelo, x[1:6]>=0,Int) #esto crea el arreglo [x[1] ,...,x[6]]\n",
    "#creamos unas variables binarias para ver si la comida i se come o no \n",
    "@variable(modelo, y[1:6], Bin) \n",
    "#agregamos las restricciones de nutrientes\n",
    "@constraint(modelo, protein[j in 2:3], sum(x[i]*data[i,j] for i in 1:6) >= data[7,j])\n",
    "#agregamos las restricciones de limite de servings per day\n",
    "@constraint(modelo, limit[i in 1:6],x[i]<=data[i,5])\n",
    "#restriccion big-M para ver si comida i se come o no \n",
    "@constraint(modelo, Secome[i in 1:6],x[i]>=0-B*(1-y[i]))\n",
    "#restriccion big-M para ver si comida i se come o no \n",
    "@constraint(modelo, NoSeCome[i in 1:6],x[i]<=B*y[i])\n",
    "#restriccion de que no se pueden comprar mas de B comidas \n",
    "@constraint(modelo, limiteComidas,sum(y[i] for i in 1:6)<=B)\n"
   ]
  },
  {
   "cell_type": "code",
   "execution_count": 17,
   "metadata": {},
   "outputs": [
    {
     "name": "stdout",
     "output_type": "stream",
     "text": [
      "Min 3 x[1] + 24 x[2] + 13 x[3] + 9 x[4] + 20 x[5] + 19 x[6]\n",
      "Subject to\n",
      " protein[2] : 4 x[1] + 32 x[2] + 13 x[3] + 8 x[4] + 4 x[5] + 14 x[6] >= 55.0\n",
      " protein[3] : 2 x[1] + 12 x[2] + 54 x[3] + 285 x[4] + 22 x[5] + 80 x[6] >= 800.0\n",
      " Secome[1] : x[1] - 3 y[1] >= -3.0\n",
      " Secome[2] : x[2] - 3 y[2] >= -3.0\n",
      " Secome[3] : x[3] - 3 y[3] >= -3.0\n",
      " Secome[4] : x[4] - 3 y[4] >= -3.0\n",
      " Secome[5] : x[5] - 3 y[5] >= -3.0\n",
      " Secome[6] : x[6] - 3 y[6] >= -3.0\n",
      " limit[1] : x[1] <= 4.0\n",
      " limit[2] : x[2] <= 3.0\n",
      " limit[3] : x[3] <= 2.0\n",
      " limit[4] : x[4] <= 8.0\n",
      " limit[5] : x[5] <= 2.0\n",
      " limit[6] : x[6] <= 2.0\n",
      " NoSeCome[1] : x[1] - 3 y[1] <= 0.0\n",
      " NoSeCome[2] : x[2] - 3 y[2] <= 0.0\n",
      " NoSeCome[3] : x[3] - 3 y[3] <= 0.0\n",
      " NoSeCome[4] : x[4] - 3 y[4] <= 0.0\n",
      " NoSeCome[5] : x[5] - 3 y[5] <= 0.0\n",
      " NoSeCome[6] : x[6] - 3 y[6] <= 0.0\n",
      " limiteComidas : y[1] + y[2] + y[3] + y[4] + y[5] + y[6] <= 3.0\n",
      " x[1] >= 0.0\n",
      " x[2] >= 0.0\n",
      " x[3] >= 0.0\n",
      " x[4] >= 0.0\n",
      " x[5] >= 0.0\n",
      " x[6] >= 0.0\n",
      " x[1] integer\n",
      " x[2] integer\n",
      " x[3] integer\n",
      " x[4] integer\n",
      " x[5] integer\n",
      " x[6] integer\n",
      " y[1] binary\n",
      " y[2] binary\n",
      " y[3] binary\n",
      " y[4] binary\n",
      " y[5] binary\n",
      " y[6] binary\n",
      "\n"
     ]
    }
   ],
   "source": [
    "@objective(modelo, Min, sum(x[i]*data[i,4] for i in 1:6))\n",
    "println(modelo)"
   ]
  },
  {
   "cell_type": "code",
   "execution_count": 18,
   "metadata": {},
   "outputs": [
    {
     "name": "stdout",
     "output_type": "stream",
     "text": [
      "Running HiGHS 1.4.2 [date: 1970-01-01, git hash: f797c1ab6]\n",
      "Copyright (c) 2022 ERGO-Code under MIT licence terms\n",
      "Presolving model\n",
      "9 rows, 12 cols, 30 nonzeros\n",
      "8 rows, 11 cols, 27 nonzeros\n",
      "Objective function is integral with scale 1\n",
      "\n",
      "Solving MIP model with:\n",
      "   8 rows\n",
      "   11 cols (6 binary, 5 integer, 0 implied int., 0 continuous)\n",
      "   27 nonzeros\n",
      "\n",
      "        Nodes      |    B&B Tree     |            Objective Bounds              |  Dynamic Constraints |       Work      \n",
      "     Proc. InQueue |  Leaves   Expl. | BestBound       BestSol              Gap |   Cuts   InLp Confl. | LpIters     Time\n",
      "\n",
      "         0       0         0   0.00%   18              inf                  inf        0      0      0         0     0.0s\n",
      " R       0       0         0   0.00%   50.07654185     60                16.54%        0      0      0         4     0.0s\n",
      "\n",
      "18.2% inactive integer columns, restarting\n",
      "Model after restart has 6 rows, 8 cols (6 bin., 2 int., 0 impl., 0 cont.), and 16 nonzeros\n",
      "\n",
      "         0       0         0   0.00%   50.25           60                16.25%        0      0      0         5     0.0s\n",
      "         0       0         0   0.00%   50.70967742     60                15.48%        0      0      3         5     0.0s\n",
      " C       0       0         0   0.00%   50.79069767     57                10.89%       11      3      3         9     0.0s\n",
      "\n",
      "Solving report\n",
      "  Status            Optimal\n",
      "  Primal bound      51\n",
      "  Dual bound        51\n",
      "  Gap               0% (tolerance: 0.01%)\n",
      "  Solution status   feasible\n",
      "                    51 (objective)\n",
      "                    0 (bound viol.)\n",
      "                    0 (int. viol.)\n",
      "                    0 (row viol.)\n",
      "  Timing            0.00 (total)\n",
      "                    0.00 (presolve)\n",
      "                    0.00 (postsolve)\n",
      "  Nodes             1\n",
      "  LP iterations     10 (total)\n",
      "                    0 (strong br.)\n",
      "                    4 (separation)\n",
      "                    0 (heuristics)\n",
      "Optimal value: 51.0\n"
     ]
    }
   ],
   "source": [
    "# Resolver el problema de optimización con HiGHS\n",
    "optimize!(modelo)\n",
    "\n",
    "println(\"Optimal value: \", objective_value(modelo))"
   ]
  },
  {
   "cell_type": "code",
   "execution_count": 19,
   "metadata": {},
   "outputs": [
    {
     "name": "stdout",
     "output_type": "stream",
     "text": [
      "El valor de x[1] es -0.0\n",
      "El valor de x[2] es 1.0\n",
      "El valor de x[3] es 0.0\n",
      "El valor de x[4] es 3.0\n",
      "El valor de x[5] es 0.0\n",
      "El valor de x[6] es 0.0\n"
     ]
    }
   ],
   "source": [
    "for i in 1:6\n",
    "    println(\"El valor de $(x[i]) es \",value(x[i]))\n",
    "\n",
    "end"
   ]
  },
  {
   "cell_type": "code",
   "execution_count": 20,
   "metadata": {},
   "outputs": [
    {
     "name": "stdout",
     "output_type": "stream",
     "text": [
      "El valor de y[1] es -0.0\n",
      "El valor de y[2] es 1.0\n",
      "El valor de y[3] es -0.0\n",
      "El valor de y[4] es 1.0\n",
      "El valor de y[5] es 0.0\n",
      "El valor de y[6] es 0.0\n"
     ]
    }
   ],
   "source": [
    "for i in 1:6\n",
    "    println(\"El valor de $(y[i]) es \",value(y[i]))\n",
    "\n",
    "end"
   ]
  },
  {
   "cell_type": "code",
   "execution_count": null,
   "metadata": {},
   "outputs": [],
   "source": []
  }
 ],
 "metadata": {
  "kernelspec": {
   "display_name": "Julia 1.8.5",
   "language": "julia",
   "name": "julia-1.8"
  },
  "language_info": {
   "file_extension": ".jl",
   "mimetype": "application/julia",
   "name": "julia",
   "version": "1.8.5"
  },
  "orig_nbformat": 4
 },
 "nbformat": 4,
 "nbformat_minor": 2
}
