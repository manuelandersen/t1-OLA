{
 "cells": [
  {
   "cell_type": "code",
   "execution_count": 1,
   "metadata": {},
   "outputs": [],
   "source": [
    "###Cargando los paquetes \n",
    "using JuMP, HiGHS, LinearAlgebra, Plots, Random, CSV, DataFrames, XLSX"
   ]
  },
  {
   "cell_type": "code",
   "execution_count": 2,
   "metadata": {},
   "outputs": [
    {
     "name": "stdout",
     "output_type": "stream",
     "text": [
      "El tipo de G es\n"
     ]
    },
    {
     "name": "stdout",
     "output_type": "stream",
     "text": [
      "XLSX.DataTable"
     ]
    },
    {
     "name": "stdout",
     "output_type": "stream",
     "text": [
      "\n",
      "\n",
      "G.data es\n"
     ]
    },
    {
     "name": "stdout",
     "output_type": "stream",
     "text": [
      "Any[Any["
     ]
    },
    {
     "name": "stdout",
     "output_type": "stream",
     "text": [
      "\"Oatmeal\", \"Chicken \", \"Eggs\", \"Whole milk \", \"Cherry pie \", \"Pork with beans \", \"Minimo \"], Any["
     ]
    },
    {
     "name": "stdout",
     "output_type": "stream",
     "text": [
      "4.0, 32.0, 13.0, 8.0, 4.0, 14.0, 55.0], Any[2.0, 12.0, 54.0, 285.0, 22.0, 80.0, 800.0], Any[3.0, 24.0, 13.0, 9.0, 20.0, 19.0, missing], Any[4.0, 3.0, 2.0, 8.0, 2.0, 2.0, missing]]\n",
      "\n"
     ]
    },
    {
     "name": "stdout",
     "output_type": "stream",
     "text": [
      "G.column_labels es\n"
     ]
    },
    {
     "name": "stdout",
     "output_type": "stream",
     "text": [
      "[:Food, Symbol(\"Protein \"), Symbol(\"Calcium \"), Symbol(\"Price per seving \"), Symbol(\"Limit per day \")]\n"
     ]
    }
   ],
   "source": [
    "#Cargamos los datos \n",
    "G=XLSX.readtable(\"DietProblemPolly.xlsx\",\"Data\")\n",
    "### Tipo de G\n",
    "println(\"El tipo de G es\\n\",typeof(G),\"\\n\")\n",
    "### G tiene dos componentes: G.data y G.column_labels\n",
    "println(\"G.data es\\n\",G.data,\"\\n\")\n",
    "println(\"G.column_labels es\\n\",G.column_labels)"
   ]
  },
  {
   "cell_type": "code",
   "execution_count": 3,
   "metadata": {},
   "outputs": [
    {
     "data": {
      "text/html": [
       "<div><div style = \"float: left;\"><span>7×5 DataFrame</span></div><div style = \"clear: both;\"></div></div><div class = \"data-frame\" style = \"overflow-x: scroll;\"><table class = \"data-frame\" style = \"margin-bottom: 6px;\"><thead><tr class = \"header\"><th class = \"rowNumber\" style = \"font-weight: bold; text-align: right;\">Row</th><th style = \"text-align: left;\">Food</th><th style = \"text-align: left;\">Protein </th><th style = \"text-align: left;\">Calcium </th><th style = \"text-align: left;\">Price per seving </th><th style = \"text-align: left;\">Limit per day </th></tr><tr class = \"subheader headerLastRow\"><th class = \"rowNumber\" style = \"font-weight: bold; text-align: right;\"></th><th title = \"Any\" style = \"text-align: left;\">Any</th><th title = \"Any\" style = \"text-align: left;\">Any</th><th title = \"Any\" style = \"text-align: left;\">Any</th><th title = \"Any\" style = \"text-align: left;\">Any</th><th title = \"Any\" style = \"text-align: left;\">Any</th></tr></thead><tbody><tr><td class = \"rowNumber\" style = \"font-weight: bold; text-align: right;\">1</td><td style = \"text-align: left;\">Oatmeal</td><td style = \"text-align: left;\">4.0</td><td style = \"text-align: left;\">2.0</td><td style = \"text-align: left;\">3.0</td><td style = \"text-align: left;\">4.0</td></tr><tr><td class = \"rowNumber\" style = \"font-weight: bold; text-align: right;\">2</td><td style = \"text-align: left;\">Chicken </td><td style = \"text-align: left;\">32.0</td><td style = \"text-align: left;\">12.0</td><td style = \"text-align: left;\">24.0</td><td style = \"text-align: left;\">3.0</td></tr><tr><td class = \"rowNumber\" style = \"font-weight: bold; text-align: right;\">3</td><td style = \"text-align: left;\">Eggs</td><td style = \"text-align: left;\">13.0</td><td style = \"text-align: left;\">54.0</td><td style = \"text-align: left;\">13.0</td><td style = \"text-align: left;\">2.0</td></tr><tr><td class = \"rowNumber\" style = \"font-weight: bold; text-align: right;\">4</td><td style = \"text-align: left;\">Whole milk </td><td style = \"text-align: left;\">8.0</td><td style = \"text-align: left;\">285.0</td><td style = \"text-align: left;\">9.0</td><td style = \"text-align: left;\">8.0</td></tr><tr><td class = \"rowNumber\" style = \"font-weight: bold; text-align: right;\">5</td><td style = \"text-align: left;\">Cherry pie </td><td style = \"text-align: left;\">4.0</td><td style = \"text-align: left;\">22.0</td><td style = \"text-align: left;\">20.0</td><td style = \"text-align: left;\">2.0</td></tr><tr><td class = \"rowNumber\" style = \"font-weight: bold; text-align: right;\">6</td><td style = \"text-align: left;\">Pork with beans </td><td style = \"text-align: left;\">14.0</td><td style = \"text-align: left;\">80.0</td><td style = \"text-align: left;\">19.0</td><td style = \"text-align: left;\">2.0</td></tr><tr><td class = \"rowNumber\" style = \"font-weight: bold; text-align: right;\">7</td><td style = \"text-align: left;\">Minimo </td><td style = \"text-align: left;\">55.0</td><td style = \"text-align: left;\">800.0</td><td style = \"font-style: italic; text-align: left;\">missing</td><td style = \"font-style: italic; text-align: left;\">missing</td></tr></tbody></table></div>"
      ],
      "text/latex": [
       "\\begin{tabular}{r|ccccc}\n",
       "\t& Food & Protein  & Calcium  & Price per seving  & Limit per day \\\\\n",
       "\t\\hline\n",
       "\t& Any & Any & Any & Any & Any\\\\\n",
       "\t\\hline\n",
       "\t1 & Oatmeal & 4.0 & 2.0 & 3.0 & 4.0 \\\\\n",
       "\t2 & Chicken  & 32.0 & 12.0 & 24.0 & 3.0 \\\\\n",
       "\t3 & Eggs & 13.0 & 54.0 & 13.0 & 2.0 \\\\\n",
       "\t4 & Whole milk  & 8.0 & 285.0 & 9.0 & 8.0 \\\\\n",
       "\t5 & Cherry pie  & 4.0 & 22.0 & 20.0 & 2.0 \\\\\n",
       "\t6 & Pork with beans  & 14.0 & 80.0 & 19.0 & 2.0 \\\\\n",
       "\t7 & Minimo  & 55.0 & 800.0 & \\emph{missing} & \\emph{missing} \\\\\n",
       "\\end{tabular}\n"
      ],
      "text/plain": [
       "\u001b[1m7×5 DataFrame\u001b[0m\n",
       "\u001b[1m Row \u001b[0m│\u001b[1m Food             \u001b[0m\u001b[1m Protein  \u001b[0m\u001b[1m Calcium  \u001b[0m\u001b[1m Price per seving  \u001b[0m\u001b[1m Limit per day \u001b[0m ⋯\n",
       "     │\u001b[90m Any              \u001b[0m\u001b[90m Any      \u001b[0m\u001b[90m Any      \u001b[0m\u001b[90m Any               \u001b[0m\u001b[90m Any           \u001b[0m ⋯\n",
       "─────┼──────────────────────────────────────────────────────────────────────────\n",
       "   1 │ Oatmeal           4.0       2.0       3.0                4.0            ⋯\n",
       "   2 │ Chicken           32.0      12.0      24.0               3.0\n",
       "   3 │ Eggs              13.0      54.0      13.0               2.0\n",
       "   4 │ Whole milk        8.0       285.0     9.0                8.0\n",
       "   5 │ Cherry pie        4.0       22.0      20.0               2.0            ⋯\n",
       "   6 │ Pork with beans   14.0      80.0      19.0               2.0\n",
       "   7 │ Minimo            55.0      800.0    \u001b[90m missing           \u001b[0m\u001b[90m missing       \u001b[0m"
      ]
     },
     "metadata": {},
     "output_type": "display_data"
    }
   ],
   "source": [
    "data = DataFrame(G);\n",
    "display(data)"
   ]
  },
  {
   "cell_type": "code",
   "execution_count": 4,
   "metadata": {},
   "outputs": [
    {
     "name": "stdout",
     "output_type": "stream",
     "text": [
      "Feasibility\n",
      "Subject to\n"
     ]
    },
    {
     "name": "stdout",
     "output_type": "stream",
     "text": [
      "\n"
     ]
    },
    {
     "data": {
      "text/plain": [
       "3"
      ]
     },
     "metadata": {},
     "output_type": "display_data"
    }
   ],
   "source": [
    "###Creando el modelo en conjunto con el solver a usar\n",
    "modelo = Model(HiGHS.Optimizer) \n",
    "println(modelo)\n",
    "\n",
    "n=6\n",
    "m=3"
   ]
  },
  {
   "cell_type": "code",
   "execution_count": 5,
   "metadata": {},
   "outputs": [
    {
     "data": {
      "text/latex": [
       "CherryPie : $ x_{5} - 2 z \\leq 0.0 $"
      ],
      "text/plain": [
       "CherryPie : x[5] - 2 z <= 0.0"
      ]
     },
     "metadata": {},
     "output_type": "display_data"
    }
   ],
   "source": [
    "#variables de decision\n",
    "@variable(modelo, x[1:6]>=0,Int) #esto crea el arreglo [x[1] ,...,x[6]]\n",
    "#variable z binaria\n",
    "@variable(modelo, z, Bin) \n",
    "#agregamos las restricciones de nutrientes\n",
    "@constraint(modelo, protein[j in 2:3], sum(x[i]*data[i,j] for i in 1:6) >= data[7,j])\n",
    "#agregamos las restricciones de limite de servings per day\n",
    "@constraint(modelo, limit[i in 1:6],x[i]<=data[i,5])\n",
    "#agregamos restrccion para pork with beans\n",
    "@constraint(modelo, PorkWithBeans, x[6]<=data[6,5]*(1-z))\n",
    "#agregamos restrccion para cherry pie\n",
    "@constraint(modelo, CherryPie, x[5]<=data[5,5]*z)\n",
    "\n"
   ]
  },
  {
   "cell_type": "code",
   "execution_count": 6,
   "metadata": {},
   "outputs": [
    {
     "name": "stdout",
     "output_type": "stream",
     "text": [
      "Min 3 x[1] + 24 x[2] + 13 x[3] + 9 x[4] + 20 x[5] + 19 x[6]\n",
      "Subject to"
     ]
    },
    {
     "name": "stdout",
     "output_type": "stream",
     "text": [
      "\n",
      " protein[2] : 4 x[1] + 32 x[2] + 13 x[3] + 8 x[4] + 4 x[5] + 14 x[6] >= 55.0\n",
      " protein[3] : 2 x[1] + 12 x[2] + 54 x[3] + 285 x[4] + 22 x[5] + 80 x[6] >= 800.0\n",
      " limit[1] : x[1] <= 4.0\n",
      " limit[2] : x[2] <= 3.0\n",
      " limit[3] : x[3] <= 2.0\n",
      " limit[4] : x[4] <= 8.0\n",
      " limit[5] : x[5] <= 2.0\n",
      " limit[6] : x[6] <= 2.0\n",
      " PorkWithBeans : x[6] + 2 z <= 2.0\n",
      " CherryPie : x[5] - 2 z <= 0.0\n",
      " x[1] >= 0.0\n",
      " x[2] >= 0.0\n",
      " x[3] >= 0.0\n",
      " x[4] >= 0.0\n",
      " x[5] >= 0.0\n",
      " x[6] >= 0.0\n",
      " x[1] integer\n",
      " x[2] integer\n",
      " x[3] integer\n",
      " x[4] integer\n",
      " x[5] integer\n",
      " x[6] integer\n",
      " z binary\n",
      "\n"
     ]
    }
   ],
   "source": [
    "@objective(modelo, Min, sum(x[i]*data[i,4] for i in 1:6))\n",
    "println(modelo)"
   ]
  },
  {
   "cell_type": "code",
   "execution_count": 7,
   "metadata": {},
   "outputs": [
    {
     "name": "stdout",
     "output_type": "stream",
     "text": [
      "Running HiGHS 1.4.2 [date: 1970-01-01, git hash: f797c1ab6]\n",
      "Copyright (c) 2022 ERGO-Code under MIT licence terms\n",
      "Presolving model\n",
      "4 rows, 7 cols, 16 nonzeros\n",
      "4 rows, 7 cols, 16 nonzeros\n",
      "Objective function is integral with scale 1\n",
      "\n",
      "Solving MIP model with:\n",
      "   4 rows\n",
      "   7 cols (1 binary, 6 integer, 0 implied int., 0 continuous)\n",
      "   16 nonzeros\n",
      "\n",
      "        Nodes      |    B&B Tree     |            Objective Bounds              |  Dynamic Constraints |       Work      \n",
      "     Proc. InQueue |  Leaves   Expl. | BestBound       BestSol              Gap |   Cuts   InLp Confl. | LpIters     Time\n",
      "\n",
      "         0       0         0   0.00%   18              inf                  inf        0      0      0         0     0.0s\n",
      " S       0       0         0   0.00%   18              63                71.43%        0      0      0         0     0.0s\n",
      " R       0       0         0   0.00%   50.25           60                16.25%        0      0      0         3     0.0s\n",
      "\n",
      "14.3% inactive integer columns, restarting\n",
      "Model after restart has 1 rows, 5 cols (2 bin., 3 int., 0 impl., 0 cont.), and 5 nonzeros\n",
      "\n",
      "         0       0         0   0.00%   50.25           60                16.25%        0      0      0         3     0.0s\n",
      " R       0       0         0   0.00%   50.61290323     57                11.21%        0      0      0         3     0.0s\n",
      "\n",
      "20.0% inactive integer columns, restarting\n",
      "Model after restart has 1 rows, 4 cols (2 bin., 2 int., 0 impl., 0 cont.), and 4 nonzeros\n",
      "\n",
      "         0       0         0   0.00%   50.61290323     57                11.21%        0      0      0         3     0.0s\n",
      " R       0       0         0   0.00%   50.61290323     54                 6.27%        0      0      0         3     0.0s\n",
      " T       0       0         0   0.00%   50.61290323     51                 0.76%        0      0      0         3     0.0s\n",
      "\n",
      "Solving report\n",
      "  Status            Optimal\n",
      "  Primal bound      51\n",
      "  Dual bound        51\n",
      "  Gap               0% (tolerance: 0.01%)\n",
      "  Solution status   feasible\n",
      "                    51 (objective)\n",
      "                    0 (bound viol.)\n",
      "                    0 (int. viol.)\n",
      "                    0 (row viol.)\n",
      "  Timing            0.01 (total)\n",
      "                    0.00 (presolve)\n",
      "                    0.00 (postsolve)\n",
      "  Nodes             1\n",
      "  LP iterations     3 (total)\n",
      "                    0 (strong br.)\n",
      "                    0 (separation)\n",
      "                    0 (heuristics)\n",
      "Optimal value: 51.0\n"
     ]
    }
   ],
   "source": [
    "# Resolver el problema de optimización con HiGHS\n",
    "optimize!(modelo)\n",
    "\n",
    "println(\"Optimal value: \", objective_value(modelo))"
   ]
  },
  {
   "cell_type": "code",
   "execution_count": 8,
   "metadata": {},
   "outputs": [
    {
     "name": "stdout",
     "output_type": "stream",
     "text": [
      "El valor de x[1] es 0.0\n",
      "El valor de x[2] es 1.0\n",
      "El valor de x[3] es 0.0\n",
      "El valor de x[4] es 3.0\n",
      "El valor de x[5] es 0.0\n",
      "El valor de x[6] es 0.0\n"
     ]
    }
   ],
   "source": [
    "for i in 1:6\n",
    "    println(\"El valor de $(x[i]) es \",value(x[i]))\n",
    "end"
   ]
  }
 ],
 "metadata": {
  "kernelspec": {
   "display_name": "Julia 1.8.5",
   "language": "julia",
   "name": "julia-1.8"
  },
  "language_info": {
   "file_extension": ".jl",
   "mimetype": "application/julia",
   "name": "julia",
   "version": "1.8.5"
  },
  "orig_nbformat": 4
 },
 "nbformat": 4,
 "nbformat_minor": 2
}
