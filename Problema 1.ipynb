{
 "cells": [
  {
   "cell_type": "code",
   "execution_count": 1,
   "metadata": {},
   "outputs": [],
   "source": [
    "###Cargando los paquetes \n",
    "using JuMP, HiGHS, LinearAlgebra, Plots, Random, CSV, DataFrames, XLSX"
   ]
  },
  {
   "cell_type": "code",
   "execution_count": 2,
   "metadata": {},
   "outputs": [],
   "source": [
    "#Parte d)"
   ]
  },
  {
   "cell_type": "code",
   "execution_count": 3,
   "metadata": {},
   "outputs": [
    {
     "name": "stdout",
     "output_type": "stream",
     "text": [
      "El tipo de G es\n",
      "XLSX"
     ]
    },
    {
     "name": "stdout",
     "output_type": "stream",
     "text": [
      ".DataTable\n",
      "\n",
      "G.data es\n"
     ]
    },
    {
     "name": "stdout",
     "output_type": "stream",
     "text": [
      "Any[Any["
     ]
    },
    {
     "name": "stdout",
     "output_type": "stream",
     "text": [
      "\"Oatmeal\", \"Chicken \", \"Eggs\", \"Whole milk \", \"Cherry pie \", \"Pork with beans \", \"Minimo \"], Any[4.0, 32.0, 13.0, 8.0, 4.0, 14.0, 55.0]"
     ]
    },
    {
     "name": "stdout",
     "output_type": "stream",
     "text": [
      ", Any[2.0, 12.0, 54.0, 285.0, 22.0, 80.0, 800.0], Any[3.0, 24.0, 13.0, 9.0, 20.0, 19.0, missing], Any[4.0, 3.0, 2.0, 8.0, 2.0, 2.0, missing]]\n",
      "\n"
     ]
    },
    {
     "name": "stdout",
     "output_type": "stream",
     "text": [
      "G.column_labels es\n"
     ]
    },
    {
     "name": "stdout",
     "output_type": "stream",
     "text": [
      "[:Food, Symbol(\"Protein \"), Symbol(\"Calcium \"), Symbol(\"Price per seving \"), Symbol(\"Limit per day \")]\n"
     ]
    }
   ],
   "source": [
    "#Cargamos los datos \n",
    "G_d=XLSX.readtable(\"DietProblemPolly.xlsx\",\"Data\")\n",
    "### Tipo de G\n",
    "println(\"El tipo de G es\\n\",typeof(G_d),\"\\n\")\n",
    "### G tiene dos componentes: G.data y G.column_labels\n",
    "println(\"G.data es\\n\",G_d.data,\"\\n\")\n",
    "println(\"G.column_labels es\\n\",G_d.column_labels)"
   ]
  },
  {
   "cell_type": "code",
   "execution_count": 4,
   "metadata": {},
   "outputs": [
    {
     "data": {
      "text/html": [
       "<div><div style = \"float: left;\"><span>7×5 DataFrame</span></div><div style = \"clear: both;\"></div></div><div class = \"data-frame\" style = \"overflow-x: scroll;\"><table class = \"data-frame\" style = \"margin-bottom: 6px;\"><thead><tr class = \"header\"><th class = \"rowNumber\" style = \"font-weight: bold; text-align: right;\">Row</th><th style = \"text-align: left;\">Food</th><th style = \"text-align: left;\">Protein </th><th style = \"text-align: left;\">Calcium </th><th style = \"text-align: left;\">Price per seving </th><th style = \"text-align: left;\">Limit per day </th></tr><tr class = \"subheader headerLastRow\"><th class = \"rowNumber\" style = \"font-weight: bold; text-align: right;\"></th><th title = \"Any\" style = \"text-align: left;\">Any</th><th title = \"Any\" style = \"text-align: left;\">Any</th><th title = \"Any\" style = \"text-align: left;\">Any</th><th title = \"Any\" style = \"text-align: left;\">Any</th><th title = \"Any\" style = \"text-align: left;\">Any</th></tr></thead><tbody><tr><td class = \"rowNumber\" style = \"font-weight: bold; text-align: right;\">1</td><td style = \"text-align: left;\">Oatmeal</td><td style = \"text-align: left;\">4.0</td><td style = \"text-align: left;\">2.0</td><td style = \"text-align: left;\">3.0</td><td style = \"text-align: left;\">4.0</td></tr><tr><td class = \"rowNumber\" style = \"font-weight: bold; text-align: right;\">2</td><td style = \"text-align: left;\">Chicken </td><td style = \"text-align: left;\">32.0</td><td style = \"text-align: left;\">12.0</td><td style = \"text-align: left;\">24.0</td><td style = \"text-align: left;\">3.0</td></tr><tr><td class = \"rowNumber\" style = \"font-weight: bold; text-align: right;\">3</td><td style = \"text-align: left;\">Eggs</td><td style = \"text-align: left;\">13.0</td><td style = \"text-align: left;\">54.0</td><td style = \"text-align: left;\">13.0</td><td style = \"text-align: left;\">2.0</td></tr><tr><td class = \"rowNumber\" style = \"font-weight: bold; text-align: right;\">4</td><td style = \"text-align: left;\">Whole milk </td><td style = \"text-align: left;\">8.0</td><td style = \"text-align: left;\">285.0</td><td style = \"text-align: left;\">9.0</td><td style = \"text-align: left;\">8.0</td></tr><tr><td class = \"rowNumber\" style = \"font-weight: bold; text-align: right;\">5</td><td style = \"text-align: left;\">Cherry pie </td><td style = \"text-align: left;\">4.0</td><td style = \"text-align: left;\">22.0</td><td style = \"text-align: left;\">20.0</td><td style = \"text-align: left;\">2.0</td></tr><tr><td class = \"rowNumber\" style = \"font-weight: bold; text-align: right;\">6</td><td style = \"text-align: left;\">Pork with beans </td><td style = \"text-align: left;\">14.0</td><td style = \"text-align: left;\">80.0</td><td style = \"text-align: left;\">19.0</td><td style = \"text-align: left;\">2.0</td></tr><tr><td class = \"rowNumber\" style = \"font-weight: bold; text-align: right;\">7</td><td style = \"text-align: left;\">Minimo </td><td style = \"text-align: left;\">55.0</td><td style = \"text-align: left;\">800.0</td><td style = \"font-style: italic; text-align: left;\">missing</td><td style = \"font-style: italic; text-align: left;\">missing</td></tr></tbody></table></div>"
      ],
      "text/latex": [
       "\\begin{tabular}{r|ccccc}\n",
       "\t& Food & Protein  & Calcium  & Price per seving  & Limit per day \\\\\n",
       "\t\\hline\n",
       "\t& Any & Any & Any & Any & Any\\\\\n",
       "\t\\hline\n",
       "\t1 & Oatmeal & 4.0 & 2.0 & 3.0 & 4.0 \\\\\n",
       "\t2 & Chicken  & 32.0 & 12.0 & 24.0 & 3.0 \\\\\n",
       "\t3 & Eggs & 13.0 & 54.0 & 13.0 & 2.0 \\\\\n",
       "\t4 & Whole milk  & 8.0 & 285.0 & 9.0 & 8.0 \\\\\n",
       "\t5 & Cherry pie  & 4.0 & 22.0 & 20.0 & 2.0 \\\\\n",
       "\t6 & Pork with beans  & 14.0 & 80.0 & 19.0 & 2.0 \\\\\n",
       "\t7 & Minimo  & 55.0 & 800.0 & \\emph{missing} & \\emph{missing} \\\\\n",
       "\\end{tabular}\n"
      ],
      "text/plain": [
       "\u001b[1m7×5 DataFrame\u001b[0m\n",
       "\u001b[1m Row \u001b[0m│\u001b[1m Food             \u001b[0m\u001b[1m Protein  \u001b[0m\u001b[1m Calcium  \u001b[0m\u001b[1m Price per seving  \u001b[0m\u001b[1m Limit per day \u001b[0m ⋯\n",
       "     │\u001b[90m Any              \u001b[0m\u001b[90m Any      \u001b[0m\u001b[90m Any      \u001b[0m\u001b[90m Any               \u001b[0m\u001b[90m Any           \u001b[0m ⋯\n",
       "─────┼──────────────────────────────────────────────────────────────────────────\n",
       "   1 │ Oatmeal           4.0       2.0       3.0                4.0            ⋯\n",
       "   2 │ Chicken           32.0      12.0      24.0               3.0\n",
       "   3 │ Eggs              13.0      54.0      13.0               2.0\n",
       "   4 │ Whole milk        8.0       285.0     9.0                8.0\n",
       "   5 │ Cherry pie        4.0       22.0      20.0               2.0            ⋯\n",
       "   6 │ Pork with beans   14.0      80.0      19.0               2.0\n",
       "   7 │ Minimo            55.0      800.0    \u001b[90m missing           \u001b[0m\u001b[90m missing       \u001b[0m"
      ]
     },
     "metadata": {},
     "output_type": "display_data"
    }
   ],
   "source": [
    "data_d = DataFrame(G_d);\n",
    "display(data_d)"
   ]
  },
  {
   "cell_type": "code",
   "execution_count": 8,
   "metadata": {},
   "outputs": [
    {
     "name": "stdout",
     "output_type": "stream",
     "text": [
      "Feasibility\n",
      "Subject to\n",
      "\n"
     ]
    },
    {
     "data": {
      "text/plain": [
       "3"
      ]
     },
     "metadata": {},
     "output_type": "display_data"
    }
   ],
   "source": [
    "###Creando el modelo en conjunto con el solver a usar\n",
    "modelo_d = Model(HiGHS.Optimizer) \n",
    "println(modelo_d)\n",
    "\n",
    "n=6\n",
    "m=3"
   ]
  },
  {
   "cell_type": "code",
   "execution_count": 9,
   "metadata": {},
   "outputs": [
    {
     "data": {
      "text/plain": [
       "6-element Vector{ConstraintRef{Model, MathOptInterface.ConstraintIndex{MathOptInterface.ScalarAffineFunction{Float64}, MathOptInterface.LessThan{Float64}}, ScalarShape}}:\n",
       " limit[1] : x[1] <= 4.0\n",
       " limit[2] : x[2] <= 3.0\n",
       " limit[3] : x[3] <= 2.0\n",
       " limit[4] : x[4] <= 8.0\n",
       " limit[5] : x[5] <= 2.0\n",
       " limit[6] : x[6] <= 2.0"
      ]
     },
     "metadata": {},
     "output_type": "display_data"
    }
   ],
   "source": [
    "@variable(modelo_d, x[1:6]>=0,Int) #esto crea el arreglo [x[1] ,...,x[6]]\n",
    "#agregamos las restricciones de nutrientes\n",
    "@constraint(modelo_d, protein[j in 2:3], sum(x[i]*data_d[i,j] for i in 1:6) >= data_d[7,j])\n",
    "#agregamos las restricciones de limite de servings per day\n",
    "@constraint(modelo_d, limit[i in 1:6],x[i]<=data_d[i,5])"
   ]
  },
  {
   "cell_type": "code",
   "execution_count": 10,
   "metadata": {},
   "outputs": [
    {
     "name": "stdout",
     "output_type": "stream",
     "text": [
      "Min 3 x[1] + 24 x[2] + 13 x[3] + 9 x[4] + 20 x[5] + 19 x[6]\n",
      "Subject to\n"
     ]
    },
    {
     "name": "stdout",
     "output_type": "stream",
     "text": [
      " protein[2] : 4 x[1] + 32 x[2] + 13 x[3] + 8 x[4] + 4 x[5] + 14 x[6] >= 55.0\n",
      " protein[3] : 2 x[1] + 12 x[2] + 54 x[3] + 285 x[4] + 22 x[5] + 80 x[6] >= 800.0\n",
      " limit[1] : x[1] <= 4.0\n",
      " limit[2] : x[2] <= 3.0\n",
      " limit[3] : x[3] <= 2.0\n",
      " limit[4] : x[4] <= 8.0\n",
      " limit[5] : x[5] <= 2.0\n",
      " limit[6] : x[6] <= 2.0\n",
      " x[1] >= 0.0\n",
      " x[2] >= 0.0\n",
      " x[3] >= 0.0\n",
      " x[4] >= 0.0\n",
      " x[5] >= 0.0\n",
      " x[6] >= 0.0\n",
      " x[1] integer\n",
      " x[2] integer\n",
      " x[3] integer\n",
      " x[4] integer\n",
      " x[5] integer\n",
      " x[6] integer\n",
      "\n"
     ]
    }
   ],
   "source": [
    "@objective(modelo_d, Min, sum(x[i]*data_d[i,4] for i in 1:6))\n",
    "println(modelo_d)"
   ]
  },
  {
   "cell_type": "code",
   "execution_count": 11,
   "metadata": {},
   "outputs": [
    {
     "name": "stdout",
     "output_type": "stream",
     "text": [
      "Running HiGHS 1.4.2 [date: 1970-01-01, git hash: f797c1ab6]\n",
      "Copyright (c) 2022 ERGO-Code under MIT licence terms\n",
      "Presolving model\n",
      "2 rows, 6 cols, 12 nonzeros\n",
      "2 rows, 6 cols, 12 nonzeros\n",
      "Objective function is integral with scale 1\n",
      "\n",
      "Solving MIP model with:\n",
      "   2 rows\n",
      "   6 cols (0 binary, 6 integer, 0 implied int., 0 continuous)\n",
      "   12 nonzeros\n",
      "\n",
      "        Nodes      |    B&B Tree     |            Objective Bounds              |  Dynamic Constraints |       Work      \n",
      "     Proc. InQueue |  Leaves   Expl. | BestBound       BestSol              Gap |   Cuts   InLp Confl. | LpIters     Time\n",
      "\n",
      "         0       0         0   0.00%   18              inf                  inf        0      0      0         0     0.0s\n",
      " S       0       0         0   0.00%   18              63                71.43%        0      0      0         0     0.0s\n",
      "\n",
      "Solving report\n",
      "  Status            Optimal\n",
      "  Primal bound      51\n",
      "  Dual bound        51\n",
      "  Gap               0% (tolerance: 0.01%)\n",
      "  Solution status   feasible\n",
      "                    51 (objective)\n",
      "                    0 (bound viol.)\n",
      "                    0 (int. viol.)\n",
      "                    0 (row viol.)\n",
      "  Timing            0.03 (total)\n",
      "                    0.01 (presolve)\n",
      "                    0.00 (postsolve)\n",
      "  Nodes             1\n",
      "  LP iterations     3 (total)\n",
      "                    0 (strong br.)\n",
      "                    0 (separation)\n",
      "                    0 (heuristics)\n",
      "Optimal value: 51.0\n"
     ]
    }
   ],
   "source": [
    "# Resolver el problema de optimización con HiGHS\n",
    "optimize!(modelo_d)\n",
    "\n",
    "println(\"Optimal value: \", objective_value(modelo_d))"
   ]
  },
  {
   "cell_type": "code",
   "execution_count": 12,
   "metadata": {},
   "outputs": [
    {
     "name": "stdout",
     "output_type": "stream",
     "text": [
      "El valor de x[1] es 0.0\n",
      "El valor de x[2] es 1.0\n",
      "El valor de x[3] es 0.0\n",
      "El valor de x[4] es 3.0\n",
      "El valor de x[5] es 0.0\n",
      "El valor de x[6] es 0.0\n"
     ]
    }
   ],
   "source": [
    "for i in 1:6\n",
    "    println(\"El valor de $(x[i]) es \",value(x[i]))\n",
    "end"
   ]
  },
  {
   "cell_type": "code",
   "execution_count": null,
   "metadata": {},
   "outputs": [],
   "source": [
    "#Parte e"
   ]
  },
  {
   "cell_type": "code",
   "execution_count": 13,
   "metadata": {},
   "outputs": [
    {
     "name": "stdout",
     "output_type": "stream",
     "text": [
      "El tipo de G_e es\n",
      "XLSX.DataTable\n",
      "\n",
      "G_e.data es\n",
      "Any[Any[\"Oatmeal\", \"Chicken \", \"Eggs\", \"Whole milk \", \"Cherry pie \", \"Pork with beans \", \"Minimo \"], Any[4.0, 32.0, 13.0, 8.0, 4.0, 14.0, 55.0], Any[2.0, 12.0, 54.0, 285.0, 22.0, 80.0, 800.0], Any[12.0, 0.0, 1.0, 10.0, 39.0, 48.0, 60.0], Any[2.0, 14.0, 11.0, 4.0, 12.0, 3.0, 60.0], Any[2000.0, 6000.0, 5000.0, 1000.0, 10000.0, 3000.0, "
     ]
    },
    {
     "name": "stdout",
     "output_type": "stream",
     "text": [
      "missing], Any[4.0, 3.0, 2.0, 8.0, 2.0, 2.0, missing], Any[0.0, 1.0, 0.0, 0.0, 0.0, 0.0, missing], Any[1.0, 0.0, 0.0, 0.0, 0.0, 0.0, missing], Any[0.0, 0.0, 0.0, 0.0, 0.0, 1.0, missing], Any[0.0, 0.0, 0.0, 0.0, 1.0,"
     ]
    },
    {
     "name": "stdout",
     "output_type": "stream",
     "text": [
      " 0.0, missing]]\n",
      "\n",
      "G_e.column_labels es\n",
      "[:Food, Symbol(\"Protein \"), Symbol(\"Calcium \"), :Carbohidratos, :Grasas, Symbol(\"Price per seving \"), Symbol(\"Limit per day \"), :Manuel, Symbol(\"Seba Lillo \"), Symbol(\"Seba Fuenzalida\"), Symbol(\"Alberto \")]\n"
     ]
    }
   ],
   "source": [
    "#Cargamos los datos que se encuentran en la otra hoja del excel \n",
    "G_e=XLSX.readtable(\"DietProblemPollyModificado.xlsx\",\"Data parte e\")\n",
    "### Tipo de G\n",
    "println(\"El tipo de G_e es\\n\",typeof(G_e),\"\\n\")\n",
    "### G tiene dos componentes: G.data y G.column_labels\n",
    "println(\"G_e.data es\\n\",G_e.data,\"\\n\")\n",
    "println(\"G_e.column_labels es\\n\",G_e.column_labels)"
   ]
  },
  {
   "cell_type": "code",
   "execution_count": 14,
   "metadata": {},
   "outputs": [
    {
     "data": {
      "text/html": [
       "<div><div style = \"float: left;\"><span>7×11 DataFrame</span></div><div style = \"clear: both;\"></div></div><div class = \"data-frame\" style = \"overflow-x: scroll;\"><table class = \"data-frame\" style = \"margin-bottom: 6px;\"><thead><tr class = \"header\"><th class = \"rowNumber\" style = \"font-weight: bold; text-align: right;\">Row</th><th style = \"text-align: left;\">Food</th><th style = \"text-align: left;\">Protein </th><th style = \"text-align: left;\">Calcium </th><th style = \"text-align: left;\">Carbohidratos</th><th style = \"text-align: left;\">Grasas</th><th style = \"text-align: left;\">Price per seving </th><th style = \"text-align: left;\">Limit per day </th><th style = \"text-align: left;\">Manuel</th><th style = \"text-align: left;\">Seba Lillo </th><th style = \"text-align: left;\">Seba Fuenzalida</th><th style = \"text-align: left;\">Alberto </th></tr><tr class = \"subheader headerLastRow\"><th class = \"rowNumber\" style = \"font-weight: bold; text-align: right;\"></th><th title = \"Any\" style = \"text-align: left;\">Any</th><th title = \"Any\" style = \"text-align: left;\">Any</th><th title = \"Any\" style = \"text-align: left;\">Any</th><th title = \"Any\" style = \"text-align: left;\">Any</th><th title = \"Any\" style = \"text-align: left;\">Any</th><th title = \"Any\" style = \"text-align: left;\">Any</th><th title = \"Any\" style = \"text-align: left;\">Any</th><th title = \"Any\" style = \"text-align: left;\">Any</th><th title = \"Any\" style = \"text-align: left;\">Any</th><th title = \"Any\" style = \"text-align: left;\">Any</th><th title = \"Any\" style = \"text-align: left;\">Any</th></tr></thead><tbody><tr><td class = \"rowNumber\" style = \"font-weight: bold; text-align: right;\">1</td><td style = \"text-align: left;\">Oatmeal</td><td style = \"text-align: left;\">4.0</td><td style = \"text-align: left;\">2.0</td><td style = \"text-align: left;\">12.0</td><td style = \"text-align: left;\">2.0</td><td style = \"text-align: left;\">2000.0</td><td style = \"text-align: left;\">4.0</td><td style = \"text-align: left;\">0.0</td><td style = \"text-align: left;\">1.0</td><td style = \"text-align: left;\">0.0</td><td style = \"text-align: left;\">0.0</td></tr><tr><td class = \"rowNumber\" style = \"font-weight: bold; text-align: right;\">2</td><td style = \"text-align: left;\">Chicken </td><td style = \"text-align: left;\">32.0</td><td style = \"text-align: left;\">12.0</td><td style = \"text-align: left;\">0.0</td><td style = \"text-align: left;\">14.0</td><td style = \"text-align: left;\">6000.0</td><td style = \"text-align: left;\">3.0</td><td style = \"text-align: left;\">1.0</td><td style = \"text-align: left;\">0.0</td><td style = \"text-align: left;\">0.0</td><td style = \"text-align: left;\">0.0</td></tr><tr><td class = \"rowNumber\" style = \"font-weight: bold; text-align: right;\">3</td><td style = \"text-align: left;\">Eggs</td><td style = \"text-align: left;\">13.0</td><td style = \"text-align: left;\">54.0</td><td style = \"text-align: left;\">1.0</td><td style = \"text-align: left;\">11.0</td><td style = \"text-align: left;\">5000.0</td><td style = \"text-align: left;\">2.0</td><td style = \"text-align: left;\">0.0</td><td style = \"text-align: left;\">0.0</td><td style = \"text-align: left;\">0.0</td><td style = \"text-align: left;\">0.0</td></tr><tr><td class = \"rowNumber\" style = \"font-weight: bold; text-align: right;\">4</td><td style = \"text-align: left;\">Whole milk </td><td style = \"text-align: left;\">8.0</td><td style = \"text-align: left;\">285.0</td><td style = \"text-align: left;\">10.0</td><td style = \"text-align: left;\">4.0</td><td style = \"text-align: left;\">1000.0</td><td style = \"text-align: left;\">8.0</td><td style = \"text-align: left;\">0.0</td><td style = \"text-align: left;\">0.0</td><td style = \"text-align: left;\">0.0</td><td style = \"text-align: left;\">0.0</td></tr><tr><td class = \"rowNumber\" style = \"font-weight: bold; text-align: right;\">5</td><td style = \"text-align: left;\">Cherry pie </td><td style = \"text-align: left;\">4.0</td><td style = \"text-align: left;\">22.0</td><td style = \"text-align: left;\">39.0</td><td style = \"text-align: left;\">12.0</td><td style = \"text-align: left;\">10000.0</td><td style = \"text-align: left;\">2.0</td><td style = \"text-align: left;\">0.0</td><td style = \"text-align: left;\">0.0</td><td style = \"text-align: left;\">0.0</td><td style = \"text-align: left;\">1.0</td></tr><tr><td class = \"rowNumber\" style = \"font-weight: bold; text-align: right;\">6</td><td style = \"text-align: left;\">Pork with beans </td><td style = \"text-align: left;\">14.0</td><td style = \"text-align: left;\">80.0</td><td style = \"text-align: left;\">48.0</td><td style = \"text-align: left;\">3.0</td><td style = \"text-align: left;\">3000.0</td><td style = \"text-align: left;\">2.0</td><td style = \"text-align: left;\">0.0</td><td style = \"text-align: left;\">0.0</td><td style = \"text-align: left;\">1.0</td><td style = \"text-align: left;\">0.0</td></tr><tr><td class = \"rowNumber\" style = \"font-weight: bold; text-align: right;\">7</td><td style = \"text-align: left;\">Minimo </td><td style = \"text-align: left;\">55.0</td><td style = \"text-align: left;\">800.0</td><td style = \"text-align: left;\">60.0</td><td style = \"text-align: left;\">60.0</td><td style = \"font-style: italic; text-align: left;\">missing</td><td style = \"font-style: italic; text-align: left;\">missing</td><td style = \"font-style: italic; text-align: left;\">missing</td><td style = \"font-style: italic; text-align: left;\">missing</td><td style = \"font-style: italic; text-align: left;\">missing</td><td style = \"font-style: italic; text-align: left;\">missing</td></tr></tbody></table></div>"
      ],
      "text/latex": [
       "\\begin{tabular}{r|ccccccc}\n",
       "\t& Food & Protein  & Calcium  & Carbohidratos & Grasas & Price per seving  & \\\\\n",
       "\t\\hline\n",
       "\t& Any & Any & Any & Any & Any & Any & \\\\\n",
       "\t\\hline\n",
       "\t1 & Oatmeal & 4.0 & 2.0 & 12.0 & 2.0 & 2000.0 & $\\dots$ \\\\\n",
       "\t2 & Chicken  & 32.0 & 12.0 & 0.0 & 14.0 & 6000.0 & $\\dots$ \\\\\n",
       "\t3 & Eggs & 13.0 & 54.0 & 1.0 & 11.0 & 5000.0 & $\\dots$ \\\\\n",
       "\t4 & Whole milk  & 8.0 & 285.0 & 10.0 & 4.0 & 1000.0 & $\\dots$ \\\\\n",
       "\t5 & Cherry pie  & 4.0 & 22.0 & 39.0 & 12.0 & 10000.0 & $\\dots$ \\\\\n",
       "\t6 & Pork with beans  & 14.0 & 80.0 & 48.0 & 3.0 & 3000.0 & $\\dots$ \\\\\n",
       "\t7 & Minimo  & 55.0 & 800.0 & 60.0 & 60.0 & \\emph{missing} & $\\dots$ \\\\\n",
       "\\end{tabular}\n"
      ],
      "text/plain": [
       "\u001b[1m7×11 DataFrame\u001b[0m\n",
       "\u001b[1m Row \u001b[0m│\u001b[1m Food             \u001b[0m\u001b[1m Protein  \u001b[0m\u001b[1m Calcium  \u001b[0m\u001b[1m Carbohidratos \u001b[0m\u001b[1m Grasas \u001b[0m\u001b[1m Price per \u001b[0m ⋯\n",
       "     │\u001b[90m Any              \u001b[0m\u001b[90m Any      \u001b[0m\u001b[90m Any      \u001b[0m\u001b[90m Any           \u001b[0m\u001b[90m Any    \u001b[0m\u001b[90m Any       \u001b[0m ⋯\n",
       "─────┼──────────────────────────────────────────────────────────────────────────\n",
       "   1 │ Oatmeal           4.0       2.0       12.0           2.0     2000.0     ⋯\n",
       "   2 │ Chicken           32.0      12.0      0.0            14.0    6000.0\n",
       "   3 │ Eggs              13.0      54.0      1.0            11.0    5000.0\n",
       "   4 │ Whole milk        8.0       285.0     10.0           4.0     1000.0\n",
       "   5 │ Cherry pie        4.0       22.0      39.0           12.0    10000.0    ⋯\n",
       "   6 │ Pork with beans   14.0      80.0      48.0           3.0     3000.0\n",
       "   7 │ Minimo            55.0      800.0     60.0           60.0   \u001b[90m missing   \u001b[0m\n",
       "\u001b[36m                                                               6 columns omitted\u001b[0m"
      ]
     },
     "metadata": {},
     "output_type": "display_data"
    }
   ],
   "source": [
    "data_e = DataFrame(G_e);\n",
    "display(data_e)"
   ]
  },
  {
   "cell_type": "code",
   "execution_count": 15,
   "metadata": {},
   "outputs": [
    {
     "name": "stdout",
     "output_type": "stream",
     "text": [
      "Feasibility\n",
      "Subject to\n",
      "\n"
     ]
    },
    {
     "data": {
      "text/plain": [
       "3"
      ]
     },
     "metadata": {},
     "output_type": "display_data"
    }
   ],
   "source": [
    "###Creando el modelo en conjunto con el solver a usar\n",
    "modelo_e = Model(HiGHS.Optimizer) \n",
    "println(modelo_e)\n",
    "\n",
    "n=6\n",
    "m=3"
   ]
  },
  {
   "cell_type": "code",
   "execution_count": 16,
   "metadata": {},
   "outputs": [
    {
     "data": {
      "text/plain": [
       "1-dimensional DenseAxisArray{ConstraintRef{Model, MathOptInterface.ConstraintIndex{MathOptInterface.ScalarAffineFunction{Float64}, MathOptInterface.GreaterThan{Float64}}, ScalarShape},1,...} with index sets:\n",
       "    Dimension 1, 8:11\n",
       "And data, a 4-element Vector{ConstraintRef{Model, MathOptInterface.ConstraintIndex{MathOptInterface.ScalarAffineFunction{Float64}, MathOptInterface.GreaterThan{Float64}}, ScalarShape}}:\n",
       " preferencia[8] : x[2] >= 1.0\n",
       " preferencia[9] : x[1] >= 1.0\n",
       " preferencia[10] : x[6] >= 1.0\n",
       " preferencia[11] : x[5] >= 1.0"
      ]
     },
     "metadata": {},
     "output_type": "display_data"
    }
   ],
   "source": [
    "@variable(modelo_e, x[1:6]>=0,Int) #esto crea el arreglo [x[1] ,...,x[6]]\n",
    "#agregamos las restricciones de nutrientes\n",
    "@constraint(modelo_e, protein[j in 2:5], sum(x[i]*data_e[i,j] for i in 1:6) >= data_e[7,j])\n",
    "#agregamos las restricciones de limite de servings per day\n",
    "@constraint(modelo_e, limit[i in 1:6],x[i]<=data_e[i,7])\n",
    "#agregamos las restricciones de preferencia de comidas\n",
    "@constraint(modelo_e, preferencia[j in 8:11], sum(x[i]*data_e[i,j] for i in 1:6)>=1)"
   ]
  },
  {
   "cell_type": "code",
   "execution_count": 17,
   "metadata": {},
   "outputs": [
    {
     "name": "stdout",
     "output_type": "stream",
     "text": [
      "Min 2000 x[1] + 6000 x[2] + 5000 x[3] + 1000 x[4] + 10000 x[5] + 3000 x[6]\n",
      "Subject to\n",
      " protein[2] : 4 x[1] + 32 x[2] + 13 x[3] + 8 x[4] + 4 x[5] + 14 x[6] >= 55.0\n",
      " protein[3] : 2 x[1] + 12 x[2] + 54 x[3] + 285 x[4] + 22 x[5] + 80 x[6] >= 800.0\n",
      " protein[4] : 12 x[1] + x[3] + 10 x[4] + 39 x[5] + 48 x[6] >= 60.0\n",
      " protein[5] : 2 x[1] + 14 x[2] + 11 x[3] + 4 x[4] + 12 x[5] + 3 x[6] >= 60.0\n",
      " preferencia[8] : x[2] >= 1.0\n",
      " preferencia[9] : x[1] >= 1.0\n",
      " preferencia[10] : x[6] >= 1.0\n",
      " preferencia[11] : x[5] >= 1.0\n",
      " limit[1] : x[1] <= 4.0\n",
      " limit[2] : x[2] <= 3.0\n",
      " limit[3] : x[3] <= 2.0\n",
      " limit[4] : x[4] <= 8.0\n",
      " limit[5] : x[5] <= 2.0\n",
      " limit[6] : x[6] <= 2.0\n",
      " x[1] >= 0.0\n",
      " x[2] >= 0.0\n",
      " x[3] >= 0.0\n",
      " x[4] >= 0.0\n",
      " x[5] >= 0.0\n",
      " x[6] >= 0.0\n",
      " "
     ]
    },
    {
     "name": "stdout",
     "output_type": "stream",
     "text": [
      "x[1] integer\n",
      " x[2] integer\n",
      " x[3] integer\n",
      " x[4] integer\n",
      " x[5] integer\n",
      " x[6] integer\n",
      "\n"
     ]
    }
   ],
   "source": [
    "@objective(modelo_e, Min, sum(x[i]*data_e[i,6] for i in 1:6))\n",
    "println(modelo_e)"
   ]
  },
  {
   "cell_type": "code",
   "execution_count": 18,
   "metadata": {},
   "outputs": [
    {
     "name": "stdout",
     "output_type": "stream",
     "text": [
      "Running HiGHS 1.4.2 [date: 1970-01-01, git hash: f797c1ab6]\n",
      "Copyright (c) 2022 ERGO-Code under MIT licence terms\n",
      "Presolving model\n",
      "4 rows, 6 cols, 23 nonzeros\n",
      "2 rows, 6 cols, 12 nonzeros\n",
      "Objective function is integral with scale 0.001\n",
      "\n",
      "Solving MIP model with:\n",
      "   2 rows\n",
      "   6 cols (2 binary, 4 integer, 0 implied int., 0 continuous)\n",
      "   12 nonzeros\n",
      "\n",
      "        Nodes      |    B&B Tree     |            Objective Bounds              |  Dynamic Constraints |       Work      \n",
      "     Proc. InQueue |  Leaves   Expl. | BestBound       BestSol              Gap |   Cuts   InLp Confl. | LpIters     Time\n",
      "\n",
      "         0       0         0   0.00%   23000           inf                  inf        0      0      0         0     0.0s\n",
      "\n",
      "Solving report\n",
      "  Status            Optimal\n",
      "  Primal bound      29000\n",
      "  Dual bound        29000\n",
      "  Gap               0% (tolerance: 0.01%)\n",
      "  Solution status   feasible\n",
      "                    29000 (objective)\n",
      "                    0 (bound viol.)\n",
      "                    0 (int. viol.)\n",
      "                    0 (row viol.)\n",
      "  Timing            0.01 (total)\n",
      "                    0.00 (presolve)\n",
      "                    0.00 (postsolve)\n",
      "  Nodes             1\n",
      "  LP iterations     1 (total)\n",
      "                    0 (strong br.)\n",
      "                    0 (separation)\n",
      "                    0 (heuristics)\n",
      "Optimal value: 29000.0\n"
     ]
    }
   ],
   "source": [
    "# Resolver el problema de optimización con HiGHS\n",
    "optimize!(modelo_e)\n",
    "\n",
    "println(\"Optimal value: \", objective_value(modelo_e))"
   ]
  },
  {
   "cell_type": "code",
   "execution_count": 19,
   "metadata": {},
   "outputs": [
    {
     "name": "stdout",
     "output_type": "stream",
     "text": [
      "El valor de x[1] es 1.0\n",
      "El valor de x[2] es 1.0\n",
      "El valor de x[3] es 0.0\n",
      "El valor de x[4] es 8.0\n",
      "El valor de x[5] es 1.0\n",
      "El valor de x[6] es 1.0\n"
     ]
    }
   ],
   "source": [
    "for i in 1:6\n",
    "    println(\"El valor de $(x[i]) es \",value(x[i]))\n",
    "end"
   ]
  },
  {
   "cell_type": "code",
   "execution_count": null,
   "metadata": {},
   "outputs": [],
   "source": [
    "#Parte f"
   ]
  },
  {
   "cell_type": "code",
   "execution_count": 20,
   "metadata": {},
   "outputs": [
    {
     "name": "stdout",
     "output_type": "stream",
     "text": [
      "El tipo de G_f es\n",
      "XLSX.DataTable\n",
      "\n",
      "G_f.data es\n",
      "Any[Any[\"Oatmeal\", \"Chicken \", \"Eggs\", \"Whole milk \", \"Cherry pie \", \"Pork with beans \", \"Minimo \"], Any[4.0, 32.0, 13.0, 8.0, 4.0, 14.0, 55.0], Any[2.0, 12.0, 54.0, 285.0, 22.0, 80.0, 800.0], Any[3.0, 24.0, 13.0, 9.0, 20.0, 19.0, missing], Any["
     ]
    },
    {
     "name": "stdout",
     "output_type": "stream",
     "text": [
      "4.0, 3.0, 2.0, 8.0, 2.0, 2.0, missing]]\n",
      "\n",
      "G_f.column_labels es\n",
      "[:Food, Symbol(\"Protein \"), Symbol(\"Calcium \"), Symbol(\"Price per seving \"), Symbol(\"Limit per day \")]\n"
     ]
    }
   ],
   "source": [
    "#Cargamos los datos \n",
    "G_f=XLSX.readtable(\"DietProblemPolly.xlsx\",\"Data\")\n",
    "### Tipo de G_f\n",
    "println(\"El tipo de G_f es\\n\",typeof(G_f),\"\\n\")\n",
    "### G_f tiene dos componentes: G_f.data y G_f.column_labels\n",
    "println(\"G_f.data es\\n\",G_f.data,\"\\n\")\n",
    "println(\"G_f.column_labels es\\n\",G_f.column_labels)"
   ]
  },
  {
   "cell_type": "code",
   "execution_count": 21,
   "metadata": {},
   "outputs": [
    {
     "data": {
      "text/html": [
       "<div><div style = \"float: left;\"><span>7×5 DataFrame</span></div><div style = \"clear: both;\"></div></div><div class = \"data-frame\" style = \"overflow-x: scroll;\"><table class = \"data-frame\" style = \"margin-bottom: 6px;\"><thead><tr class = \"header\"><th class = \"rowNumber\" style = \"font-weight: bold; text-align: right;\">Row</th><th style = \"text-align: left;\">Food</th><th style = \"text-align: left;\">Protein </th><th style = \"text-align: left;\">Calcium </th><th style = \"text-align: left;\">Price per seving </th><th style = \"text-align: left;\">Limit per day </th></tr><tr class = \"subheader headerLastRow\"><th class = \"rowNumber\" style = \"font-weight: bold; text-align: right;\"></th><th title = \"Any\" style = \"text-align: left;\">Any</th><th title = \"Any\" style = \"text-align: left;\">Any</th><th title = \"Any\" style = \"text-align: left;\">Any</th><th title = \"Any\" style = \"text-align: left;\">Any</th><th title = \"Any\" style = \"text-align: left;\">Any</th></tr></thead><tbody><tr><td class = \"rowNumber\" style = \"font-weight: bold; text-align: right;\">1</td><td style = \"text-align: left;\">Oatmeal</td><td style = \"text-align: left;\">4.0</td><td style = \"text-align: left;\">2.0</td><td style = \"text-align: left;\">3.0</td><td style = \"text-align: left;\">4.0</td></tr><tr><td class = \"rowNumber\" style = \"font-weight: bold; text-align: right;\">2</td><td style = \"text-align: left;\">Chicken </td><td style = \"text-align: left;\">32.0</td><td style = \"text-align: left;\">12.0</td><td style = \"text-align: left;\">24.0</td><td style = \"text-align: left;\">3.0</td></tr><tr><td class = \"rowNumber\" style = \"font-weight: bold; text-align: right;\">3</td><td style = \"text-align: left;\">Eggs</td><td style = \"text-align: left;\">13.0</td><td style = \"text-align: left;\">54.0</td><td style = \"text-align: left;\">13.0</td><td style = \"text-align: left;\">2.0</td></tr><tr><td class = \"rowNumber\" style = \"font-weight: bold; text-align: right;\">4</td><td style = \"text-align: left;\">Whole milk </td><td style = \"text-align: left;\">8.0</td><td style = \"text-align: left;\">285.0</td><td style = \"text-align: left;\">9.0</td><td style = \"text-align: left;\">8.0</td></tr><tr><td class = \"rowNumber\" style = \"font-weight: bold; text-align: right;\">5</td><td style = \"text-align: left;\">Cherry pie </td><td style = \"text-align: left;\">4.0</td><td style = \"text-align: left;\">22.0</td><td style = \"text-align: left;\">20.0</td><td style = \"text-align: left;\">2.0</td></tr><tr><td class = \"rowNumber\" style = \"font-weight: bold; text-align: right;\">6</td><td style = \"text-align: left;\">Pork with beans </td><td style = \"text-align: left;\">14.0</td><td style = \"text-align: left;\">80.0</td><td style = \"text-align: left;\">19.0</td><td style = \"text-align: left;\">2.0</td></tr><tr><td class = \"rowNumber\" style = \"font-weight: bold; text-align: right;\">7</td><td style = \"text-align: left;\">Minimo </td><td style = \"text-align: left;\">55.0</td><td style = \"text-align: left;\">800.0</td><td style = \"font-style: italic; text-align: left;\">missing</td><td style = \"font-style: italic; text-align: left;\">missing</td></tr></tbody></table></div>"
      ],
      "text/latex": [
       "\\begin{tabular}{r|ccccc}\n",
       "\t& Food & Protein  & Calcium  & Price per seving  & Limit per day \\\\\n",
       "\t\\hline\n",
       "\t& Any & Any & Any & Any & Any\\\\\n",
       "\t\\hline\n",
       "\t1 & Oatmeal & 4.0 & 2.0 & 3.0 & 4.0 \\\\\n",
       "\t2 & Chicken  & 32.0 & 12.0 & 24.0 & 3.0 \\\\\n",
       "\t3 & Eggs & 13.0 & 54.0 & 13.0 & 2.0 \\\\\n",
       "\t4 & Whole milk  & 8.0 & 285.0 & 9.0 & 8.0 \\\\\n",
       "\t5 & Cherry pie  & 4.0 & 22.0 & 20.0 & 2.0 \\\\\n",
       "\t6 & Pork with beans  & 14.0 & 80.0 & 19.0 & 2.0 \\\\\n",
       "\t7 & Minimo  & 55.0 & 800.0 & \\emph{missing} & \\emph{missing} \\\\\n",
       "\\end{tabular}\n"
      ],
      "text/plain": [
       "\u001b[1m7×5 DataFrame\u001b[0m\n",
       "\u001b[1m Row \u001b[0m│\u001b[1m Food             \u001b[0m\u001b[1m Protein  \u001b[0m\u001b[1m Calcium  \u001b[0m\u001b[1m Price per seving  \u001b[0m\u001b[1m Limit per day \u001b[0m ⋯\n",
       "     │\u001b[90m Any              \u001b[0m\u001b[90m Any      \u001b[0m\u001b[90m Any      \u001b[0m\u001b[90m Any               \u001b[0m\u001b[90m Any           \u001b[0m ⋯\n",
       "─────┼──────────────────────────────────────────────────────────────────────────\n",
       "   1 │ Oatmeal           4.0       2.0       3.0                4.0            ⋯\n",
       "   2 │ Chicken           32.0      12.0      24.0               3.0\n",
       "   3 │ Eggs              13.0      54.0      13.0               2.0\n",
       "   4 │ Whole milk        8.0       285.0     9.0                8.0\n",
       "   5 │ Cherry pie        4.0       22.0      20.0               2.0            ⋯\n",
       "   6 │ Pork with beans   14.0      80.0      19.0               2.0\n",
       "   7 │ Minimo            55.0      800.0    \u001b[90m missing           \u001b[0m\u001b[90m missing       \u001b[0m"
      ]
     },
     "metadata": {},
     "output_type": "display_data"
    }
   ],
   "source": [
    "data_f = DataFrame(G_f);\n",
    "display(data_f)"
   ]
  },
  {
   "cell_type": "code",
   "execution_count": 22,
   "metadata": {},
   "outputs": [
    {
     "name": "stdout",
     "output_type": "stream",
     "text": [
      "Feasibility\n",
      "Subject to\n",
      "\n"
     ]
    },
    {
     "data": {
      "text/plain": [
       "3"
      ]
     },
     "metadata": {},
     "output_type": "display_data"
    }
   ],
   "source": [
    "###Creando el modelo en conjunto con el solver a usar\n",
    "modelo_f = Model(HiGHS.Optimizer) \n",
    "println(modelo_f)\n",
    "\n",
    "n=6\n",
    "m=3"
   ]
  },
  {
   "cell_type": "code",
   "execution_count": 23,
   "metadata": {},
   "outputs": [
    {
     "data": {
      "text/plain": [
       "6-element Vector{ConstraintRef{Model, MathOptInterface.ConstraintIndex{MathOptInterface.ScalarAffineFunction{Float64}, MathOptInterface.LessThan{Float64}}, ScalarShape}}:\n",
       " limit[1] : x[1] <= 4.0\n",
       " limit[2] : x[2] <= 3.0\n",
       " limit[3] : x[3] <= 2.0\n",
       " limit[4] : x[4] <= 8.0\n",
       " limit[5] : x[5] <= 2.0\n",
       " limit[6] : x[6] <= 2.0"
      ]
     },
     "metadata": {},
     "output_type": "display_data"
    }
   ],
   "source": [
    "@variable(modelo_f, x[1:6]>=0,Int) #esto crea el arreglo [x[1] ,...,x[6]]\n",
    "#agregamos las restricciones de nutrientes\n",
    "@constraint(modelo_f, protein[j in 2:3], sum(x[i]*data_f[i,j] for i in 1:6) >= data_f[7,j])\n",
    "#agregamos las restricciones de limite de servings per day\n",
    "@constraint(modelo_f, limit[i in 1:6],x[i]<=data_f[i,5])"
   ]
  },
  {
   "cell_type": "code",
   "execution_count": 24,
   "metadata": {},
   "outputs": [
    {
     "name": "stdout",
     "output_type": "stream",
     "text": [
      "Min 3 x[1] + 24 x[2] + 13 x[3] + 9 x[4] + 20 x[5] + 19 x[6]\n",
      "Subject to\n",
      " protein[2] : 4 x[1] + 32 x[2] + 13 x[3] + 8 x[4] + 4 x[5] + 14 x[6] >= 55.0\n",
      " protein[3] : 2 x[1] + 12 x[2] + 54 x[3] + 285 x[4] + 22 x[5] + 80 x[6] >= 800.0\n",
      " limit[1] : x[1] <= 4.0\n",
      " limit[2] : x[2] <= 3.0\n",
      " limit[3] : x[3] <= 2.0\n",
      " limit[4] : x[4] <= 8.0\n",
      " limit[5] : x[5] <= 2.0\n",
      " limit[6] : x[6] <= 2.0\n",
      " x[1] >= 0.0"
     ]
    },
    {
     "name": "stdout",
     "output_type": "stream",
     "text": [
      "\n",
      " x[2] >= 0.0\n",
      " x[3] >= 0.0\n",
      " x[4] >= 0.0\n",
      " x[5] >= 0.0\n",
      " x[6] >= 0.0\n",
      " x[1] integer\n",
      " x[2] integer\n",
      " x[3] integer\n",
      " x[4] integer\n",
      " x[5] integer\n",
      " x[6] integer\n",
      "\n"
     ]
    }
   ],
   "source": [
    "@objective(modelo_f, Min, sum(x[i]*data_f[i,4] for i in 1:6))\n",
    "println(modelo_f)"
   ]
  },
  {
   "cell_type": "code",
   "execution_count": 25,
   "metadata": {},
   "outputs": [
    {
     "name": "stdout",
     "output_type": "stream",
     "text": [
      "Running HiGHS 1.4.2 [date: 1970-01-01, git hash: f797c1ab6]\n",
      "Copyright (c) 2022 ERGO-Code under MIT licence terms\n",
      "Presolving model\n",
      "2 rows, 6 cols, 12 nonzeros\n",
      "2 rows, 6 cols, 12 nonzeros\n",
      "Objective function is integral with scale 1\n",
      "\n",
      "Solving MIP model with:\n",
      "   2 rows\n",
      "   6 cols (0 binary, 6 integer, 0 implied int., 0 continuous)\n",
      "   12 nonzeros\n",
      "\n",
      "        Nodes      |    B&B Tree     |            Objective Bounds              |  Dynamic Constraints |       Work      \n",
      "     Proc. InQueue |  Leaves   Expl. | BestBound       BestSol              Gap |   Cuts   InLp Confl. | LpIters     Time\n",
      "\n",
      "         0       0         0   0.00%   18              inf                  inf        0      0      0         0     0.0s\n",
      " S       0       0         0   0.00%   18              63                71.43%        0      0      0         0     0.0s\n",
      "\n",
      "Solving report\n",
      "  Status            Optimal\n",
      "  Primal bound      51\n",
      "  Dual bound        51\n",
      "  Gap               0% (tolerance: 0.01%)\n",
      "  Solution status   feasible\n",
      "                    51 (objective)\n",
      "                    0 (bound viol.)\n",
      "                    0 (int. viol.)\n",
      "                    0 (row viol.)\n",
      "  Timing            0.00 (total)\n",
      "                    0.00 (presolve)\n",
      "                    0.00 (postsolve)\n",
      "  Nodes             1\n",
      "  LP iterations     3 (total)\n",
      "                    0 (strong br.)\n",
      "                    0 (separation)\n",
      "                    0 (heuristics)\n",
      "Optimal value: 51.0\n"
     ]
    }
   ],
   "source": [
    "# Resolver el problema de optimización con HiGHS\n",
    "optimize!(modelo_f)\n",
    "\n",
    "println(\"Optimal value: \", objective_value(modelo_f))"
   ]
  },
  {
   "cell_type": "code",
   "execution_count": 26,
   "metadata": {},
   "outputs": [
    {
     "name": "stdout",
     "output_type": "stream",
     "text": [
      "El valor de x[1] es 0.0\n",
      "El valor de x[2] es 1.0\n",
      "El valor de x[3] es 0.0\n",
      "El valor de x[4] es 3.0\n",
      "El valor de x[5] es 0.0\n",
      "El valor de x[6] es 0.0\n"
     ]
    }
   ],
   "source": [
    "for i in 1:6\n",
    "    println(\"El valor de $(x[i]) es \",value(x[i]))\n",
    "end"
   ]
  },
  {
   "cell_type": "code",
   "execution_count": null,
   "metadata": {},
   "outputs": [],
   "source": [
    "#Parte g)"
   ]
  },
  {
   "cell_type": "code",
   "execution_count": 27,
   "metadata": {},
   "outputs": [
    {
     "name": "stdout",
     "output_type": "stream",
     "text": [
      "El tipo de G_g es\n",
      "XLSX.DataTable\n",
      "\n",
      "G_g.data es\n",
      "Any[Any[\"Oatmeal\", \"Chicken \", \"Eggs\", \"Whole milk \", \"Cherry pie \", \"Pork with beans \", \"Minimo \"], Any[4.0, 32.0, 13.0, "
     ]
    },
    {
     "name": "stdout",
     "output_type": "stream",
     "text": [
      "8.0, 4.0, 14.0, 55.0], Any[2.0, 12.0, 54.0, 285.0, 22.0, 80.0, 800.0], Any[3.0, 24.0, 13.0, 9.0, 20.0, 19.0, missing], Any[4.0, 3.0, 2.0, 8.0, 2.0, 2.0, missing]]\n",
      "\n",
      "G_g.column_labels es\n",
      "[:Food, Symbol(\"Protein \"), Symbol(\"Calcium \"), Symbol(\"Price per seving \"), Symbol(\"Limit per day \")]\n"
     ]
    }
   ],
   "source": [
    "#Cargamos los datos \n",
    "G_g=XLSX.readtable(\"DietProblemPolly.xlsx\",\"Data\")\n",
    "### Tipo de G_g\n",
    "println(\"El tipo de G_g es\\n\",typeof(G_g),\"\\n\")\n",
    "### G_g tiene dos componentes: G_g.data y G_g.column_labels\n",
    "println(\"G_g.data es\\n\",G_g.data,\"\\n\")\n",
    "println(\"G_g.column_labels es\\n\",G_g.column_labels)"
   ]
  },
  {
   "cell_type": "code",
   "execution_count": 28,
   "metadata": {},
   "outputs": [
    {
     "data": {
      "text/html": [
       "<div><div style = \"float: left;\"><span>7×5 DataFrame</span></div><div style = \"clear: both;\"></div></div><div class = \"data-frame\" style = \"overflow-x: scroll;\"><table class = \"data-frame\" style = \"margin-bottom: 6px;\"><thead><tr class = \"header\"><th class = \"rowNumber\" style = \"font-weight: bold; text-align: right;\">Row</th><th style = \"text-align: left;\">Food</th><th style = \"text-align: left;\">Protein </th><th style = \"text-align: left;\">Calcium </th><th style = \"text-align: left;\">Price per seving </th><th style = \"text-align: left;\">Limit per day </th></tr><tr class = \"subheader headerLastRow\"><th class = \"rowNumber\" style = \"font-weight: bold; text-align: right;\"></th><th title = \"Any\" style = \"text-align: left;\">Any</th><th title = \"Any\" style = \"text-align: left;\">Any</th><th title = \"Any\" style = \"text-align: left;\">Any</th><th title = \"Any\" style = \"text-align: left;\">Any</th><th title = \"Any\" style = \"text-align: left;\">Any</th></tr></thead><tbody><tr><td class = \"rowNumber\" style = \"font-weight: bold; text-align: right;\">1</td><td style = \"text-align: left;\">Oatmeal</td><td style = \"text-align: left;\">4.0</td><td style = \"text-align: left;\">2.0</td><td style = \"text-align: left;\">3.0</td><td style = \"text-align: left;\">4.0</td></tr><tr><td class = \"rowNumber\" style = \"font-weight: bold; text-align: right;\">2</td><td style = \"text-align: left;\">Chicken </td><td style = \"text-align: left;\">32.0</td><td style = \"text-align: left;\">12.0</td><td style = \"text-align: left;\">24.0</td><td style = \"text-align: left;\">3.0</td></tr><tr><td class = \"rowNumber\" style = \"font-weight: bold; text-align: right;\">3</td><td style = \"text-align: left;\">Eggs</td><td style = \"text-align: left;\">13.0</td><td style = \"text-align: left;\">54.0</td><td style = \"text-align: left;\">13.0</td><td style = \"text-align: left;\">2.0</td></tr><tr><td class = \"rowNumber\" style = \"font-weight: bold; text-align: right;\">4</td><td style = \"text-align: left;\">Whole milk </td><td style = \"text-align: left;\">8.0</td><td style = \"text-align: left;\">285.0</td><td style = \"text-align: left;\">9.0</td><td style = \"text-align: left;\">8.0</td></tr><tr><td class = \"rowNumber\" style = \"font-weight: bold; text-align: right;\">5</td><td style = \"text-align: left;\">Cherry pie </td><td style = \"text-align: left;\">4.0</td><td style = \"text-align: left;\">22.0</td><td style = \"text-align: left;\">20.0</td><td style = \"text-align: left;\">2.0</td></tr><tr><td class = \"rowNumber\" style = \"font-weight: bold; text-align: right;\">6</td><td style = \"text-align: left;\">Pork with beans </td><td style = \"text-align: left;\">14.0</td><td style = \"text-align: left;\">80.0</td><td style = \"text-align: left;\">19.0</td><td style = \"text-align: left;\">2.0</td></tr><tr><td class = \"rowNumber\" style = \"font-weight: bold; text-align: right;\">7</td><td style = \"text-align: left;\">Minimo </td><td style = \"text-align: left;\">55.0</td><td style = \"text-align: left;\">800.0</td><td style = \"font-style: italic; text-align: left;\">missing</td><td style = \"font-style: italic; text-align: left;\">missing</td></tr></tbody></table></div>"
      ],
      "text/latex": [
       "\\begin{tabular}{r|ccccc}\n",
       "\t& Food & Protein  & Calcium  & Price per seving  & Limit per day \\\\\n",
       "\t\\hline\n",
       "\t& Any & Any & Any & Any & Any\\\\\n",
       "\t\\hline\n",
       "\t1 & Oatmeal & 4.0 & 2.0 & 3.0 & 4.0 \\\\\n",
       "\t2 & Chicken  & 32.0 & 12.0 & 24.0 & 3.0 \\\\\n",
       "\t3 & Eggs & 13.0 & 54.0 & 13.0 & 2.0 \\\\\n",
       "\t4 & Whole milk  & 8.0 & 285.0 & 9.0 & 8.0 \\\\\n",
       "\t5 & Cherry pie  & 4.0 & 22.0 & 20.0 & 2.0 \\\\\n",
       "\t6 & Pork with beans  & 14.0 & 80.0 & 19.0 & 2.0 \\\\\n",
       "\t7 & Minimo  & 55.0 & 800.0 & \\emph{missing} & \\emph{missing} \\\\\n",
       "\\end{tabular}\n"
      ],
      "text/plain": [
       "\u001b[1m7×5 DataFrame\u001b[0m\n",
       "\u001b[1m Row \u001b[0m│\u001b[1m Food             \u001b[0m\u001b[1m Protein  \u001b[0m\u001b[1m Calcium  \u001b[0m\u001b[1m Price per seving  \u001b[0m\u001b[1m Limit per day \u001b[0m ⋯\n",
       "     │\u001b[90m Any              \u001b[0m\u001b[90m Any      \u001b[0m\u001b[90m Any      \u001b[0m\u001b[90m Any               \u001b[0m\u001b[90m Any           \u001b[0m ⋯\n",
       "─────┼──────────────────────────────────────────────────────────────────────────\n",
       "   1 │ Oatmeal           4.0       2.0       3.0                4.0            ⋯\n",
       "   2 │ Chicken           32.0      12.0      24.0               3.0\n",
       "   3 │ Eggs              13.0      54.0      13.0               2.0\n",
       "   4 │ Whole milk        8.0       285.0     9.0                8.0\n",
       "   5 │ Cherry pie        4.0       22.0      20.0               2.0            ⋯\n",
       "   6 │ Pork with beans   14.0      80.0      19.0               2.0\n",
       "   7 │ Minimo            55.0      800.0    \u001b[90m missing           \u001b[0m\u001b[90m missing       \u001b[0m"
      ]
     },
     "metadata": {},
     "output_type": "display_data"
    }
   ],
   "source": [
    "data_g = DataFrame(G_g);\n",
    "display(data_g)"
   ]
  },
  {
   "cell_type": "code",
   "execution_count": 29,
   "metadata": {},
   "outputs": [
    {
     "name": "stdout",
     "output_type": "stream",
     "text": [
      "Feasibility\n",
      "Subject to"
     ]
    },
    {
     "name": "stdout",
     "output_type": "stream",
     "text": [
      "\n",
      "\n"
     ]
    },
    {
     "data": {
      "text/plain": [
       "3"
      ]
     },
     "metadata": {},
     "output_type": "display_data"
    }
   ],
   "source": [
    "###Creando el modelo en conjunto con el solver a usar\n",
    "modelo_g = Model(HiGHS.Optimizer) \n",
    "println(modelo_g)\n",
    "\n",
    "n=6\n",
    "m=3\n",
    "B=3"
   ]
  },
  {
   "cell_type": "code",
   "execution_count": 30,
   "metadata": {},
   "outputs": [
    {
     "data": {
      "text/latex": [
       "limiteComidas : $ y_{1} + y_{2} + y_{3} + y_{4} + y_{5} + y_{6} \\leq 3.0 $"
      ],
      "text/plain": [
       "limiteComidas : y[1] + y[2] + y[3] + y[4] + y[5] + y[6] <= 3.0"
      ]
     },
     "metadata": {},
     "output_type": "display_data"
    }
   ],
   "source": [
    "#creamos variables para ver cuantas porciones de cada comida son\n",
    "@variable(modelo_g, x[1:6]>=0,Int) #esto crea el arreglo [x[1] ,...,x[6]]\n",
    "#creamos unas variables binarias para ver si la comida i se come o no \n",
    "@variable(modelo_g, y[1:6], Bin) \n",
    "#agregamos las restricciones de nutrientes\n",
    "@constraint(modelo_g, protein[j in 2:3], sum(x[i]*data_g[i,j] for i in 1:6) >= data_g[7,j])\n",
    "#agregamos las restricciones de limite de servings per day\n",
    "@constraint(modelo_g, limit[i in 1:6],x[i]<=data_g[i,5])\n",
    "#restriccion big-M para ver si comida i se come o no \n",
    "@constraint(modelo_g, Secome[i in 1:6],x[i]>=0-B*(1-y[i]))\n",
    "#restriccion big-M para ver si comida i se come o no \n",
    "@constraint(modelo_g, NoSeCome[i in 1:6],x[i]<=B*y[i])\n",
    "#restriccion de que no se pueden comprar mas de B comidas \n",
    "@constraint(modelo_g, limiteComidas,sum(y[i] for i in 1:6)<=B)"
   ]
  },
  {
   "cell_type": "code",
   "execution_count": 31,
   "metadata": {},
   "outputs": [
    {
     "name": "stdout",
     "output_type": "stream",
     "text": [
      "Min 3 x[1] + 24 x[2] + 13 x[3] + 9 x[4] + 20 x[5] + 19 x[6]\n",
      "Subject to\n"
     ]
    },
    {
     "name": "stdout",
     "output_type": "stream",
     "text": [
      " protein[2] : 4 x[1] + 32 x[2] + 13 x[3] + 8 x[4] + 4 x[5] + 14 x[6] >= 55.0\n",
      " protein[3] : 2 x[1] + 12 x[2] + 54 x[3] + 285 x[4] + 22 x[5] + 80 x[6] >= 800.0\n",
      " Secome[1] : x[1] - 3 y[1] >= -3.0\n",
      " Secome[2] : x[2] - 3 y[2] >= -3.0\n",
      " Secome[3] : x[3] - 3 y[3] >= -3.0\n",
      " Secome[4] : x[4] - 3 y[4] >= -3.0\n",
      " Secome[5] : x[5] - 3 y[5] >= -3.0\n",
      " Secome[6] : x[6] - 3 y[6] >= -3.0\n",
      " limit[1] : x[1] <= 4.0\n",
      " limit[2] : x[2] <= 3.0\n",
      " limit[3] : x[3] <= 2.0\n",
      " limit[4] : x[4] <= 8.0\n",
      " limit[5] : x[5] <= 2.0\n",
      " limit[6] : x[6] <= 2.0\n",
      " NoSeCome[1] : x[1] - 3 y[1] <= 0.0\n",
      " NoSeCome[2] : x[2] - 3 y[2] <= 0.0\n",
      " NoSeCome[3] : x[3] - 3 y[3] <= 0.0\n",
      " NoSeCome[4] : x[4] - 3 y[4] <= 0.0\n",
      " NoSeCome[5] : x[5] - 3 y[5] <= 0.0\n",
      " NoSeCome[6] : x[6] - 3 y[6] <= 0.0\n",
      " limiteComidas : y[1] + y[2] + y[3] + y[4] + y[5] + y[6] <= 3.0\n",
      " x[1] >= 0.0\n",
      " x[2] >= 0.0\n",
      " x[3] >= 0.0\n",
      " x[4] >= 0.0\n",
      " x[5] >= 0.0\n",
      " x[6] >= 0.0\n",
      " x[1] integer\n",
      " x[2] integer\n",
      " x[3] integer\n",
      " x[4] integer\n",
      " x[5] integer\n",
      " x[6] integer\n",
      " y[1] binary\n",
      " y[2] binary\n",
      " y[3] binary\n",
      " "
     ]
    },
    {
     "name": "stdout",
     "output_type": "stream",
     "text": [
      "y[4] binary\n",
      " y[5] binary\n",
      " y[6] binary\n",
      "\n"
     ]
    }
   ],
   "source": [
    "@objective(modelo_g, Min, sum(x[i]*data_g[i,4] for i in 1:6))\n",
    "println(modelo_g)"
   ]
  },
  {
   "cell_type": "code",
   "execution_count": 32,
   "metadata": {},
   "outputs": [
    {
     "name": "stdout",
     "output_type": "stream",
     "text": [
      "Running HiGHS 1.4.2 [date: 1970-01-01, git hash: f797c1ab6]\n",
      "Copyright (c) 2022 ERGO-Code under MIT licence terms\n",
      "Presolving model\n",
      "9 rows, 12 cols, 30 nonzeros\n",
      "8 rows, 11 cols, 27 nonzeros\n",
      "Objective function is integral with scale 1\n",
      "\n",
      "Solving MIP model with:\n",
      "   8 rows\n",
      "   11 cols (6 binary, 5 integer, 0 implied int., 0 continuous)\n",
      "   27 nonzeros\n",
      "\n",
      "        Nodes      |    B&B Tree     |            Objective Bounds              |  Dynamic Constraints |       Work      \n",
      "     Proc. InQueue |  Leaves   Expl. | BestBound       BestSol              Gap |   Cuts   InLp Confl. | LpIters     Time\n",
      "\n",
      "         0       0         0   0.00%   18              inf                  inf        0      0      0         0     0.0s\n",
      " R       0       0         0   0.00%   50.07654185     60                16.54%        0      0      0         4     0.0s\n",
      "\n",
      "18.2% inactive integer columns, restarting\n",
      "Model after restart has 6 rows, 8 cols (6 bin., 2 int., 0 impl., 0 cont.), and 16 nonzeros\n",
      "\n",
      "         0       0         0   0.00%   50.25           60                16.25%        0      0      0         5     0.0s\n",
      "         0       0         0   0.00%   50.70967742     60                15.48%        0      0      3         5     0.0s\n",
      " C       0       0         0   0.00%   50.79069767     57                10.89%       11      3      3         9     0.0s\n",
      "\n",
      "Solving report\n",
      "  Status            Optimal\n",
      "  Primal bound      51\n",
      "  Dual bound        51\n",
      "  Gap               0% (tolerance: 0.01%)\n",
      "  Solution status   feasible\n",
      "                    51 (objective)\n",
      "                    0 (bound viol.)\n",
      "                    0 (int. viol.)\n",
      "                    0 (row viol.)\n",
      "  Timing            0.01 (total)\n",
      "                    0.00 (presolve)\n",
      "                    0.00 (postsolve)\n",
      "  Nodes             1\n",
      "  LP iterations     10 (total)\n",
      "                    0 (strong br.)\n",
      "                    4 (separation)\n",
      "                    0 (heuristics)\n",
      "Optimal value: 51.0\n"
     ]
    }
   ],
   "source": [
    "# Resolver el problema de optimización con HiGHS\n",
    "optimize!(modelo_g)\n",
    "\n",
    "println(\"Optimal value: \", objective_value(modelo_g))"
   ]
  },
  {
   "cell_type": "code",
   "execution_count": 33,
   "metadata": {},
   "outputs": [
    {
     "name": "stdout",
     "output_type": "stream",
     "text": [
      "El valor de x[1] es -0.0\n",
      "El valor de x[2] es 1.0\n",
      "El valor de x[3] es 0.0\n",
      "El valor de x[4] es "
     ]
    },
    {
     "name": "stdout",
     "output_type": "stream",
     "text": [
      "3.0\n",
      "El valor de x[5] es 0.0\n",
      "El valor de x[6] es 0.0\n"
     ]
    }
   ],
   "source": [
    "for i in 1:6\n",
    "    println(\"El valor de $(x[i]) es \",value(x[i]))\n",
    "\n",
    "end"
   ]
  },
  {
   "cell_type": "code",
   "execution_count": 34,
   "metadata": {},
   "outputs": [
    {
     "name": "stdout",
     "output_type": "stream",
     "text": [
      "El valor de y[1] es -0.0\n",
      "El valor de y[2] es 1.0\n",
      "El valor de y[3] es -0.0\n",
      "El valor de y[4] es 1.0\n",
      "El valor de y[5] es 0.0\n",
      "El valor de y[6] es 0.0\n"
     ]
    }
   ],
   "source": [
    "for i in 1:6\n",
    "    println(\"El valor de $(y[i]) es \",value(y[i]))\n",
    "\n",
    "end"
   ]
  },
  {
   "cell_type": "code",
   "execution_count": null,
   "metadata": {},
   "outputs": [],
   "source": [
    "#Parte h)"
   ]
  },
  {
   "cell_type": "code",
   "execution_count": 36,
   "metadata": {},
   "outputs": [
    {
     "name": "stdout",
     "output_type": "stream",
     "text": [
      "El tipo de G_h es\n",
      "XLSX.DataTable\n",
      "\n",
      "G_h.data es\n",
      "Any[Any[\"Oatmeal\", \"Chicken \", \"Eggs\", \"Whole milk \", \"Cherry pie \", \"Pork with beans \", \"Minimo \"], Any[4.0, 32.0, 13.0, 8.0, 4.0, 14.0, 55.0], Any[2.0, 12.0, 54.0, 285.0, 22.0, 80.0, 800.0], Any[3.0, 24.0, 13.0, 9.0, 20.0, 19.0, missing], Any["
     ]
    },
    {
     "name": "stdout",
     "output_type": "stream",
     "text": [
      "4.0, 3.0, 2.0, 8.0, 2.0, 2.0, missing]]\n",
      "\n",
      "G_h.column_labels es\n",
      "[:Food, Symbol(\"Protein \"), Symbol(\"Calcium \"), Symbol(\"Price per seving \"), Symbol(\"Limit per day \")]\n"
     ]
    }
   ],
   "source": [
    "#Cargamos los datos \n",
    "G_h=XLSX.readtable(\"DietProblemPolly.xlsx\",\"Data\")\n",
    "### Tipo de G_h\n",
    "println(\"El tipo de G_h es\\n\",typeof(G_h),\"\\n\")\n",
    "### G_h tiene dos componentes: G_h.data y G_h.column_labels\n",
    "println(\"G_h.data es\\n\",G_h.data,\"\\n\")\n",
    "println(\"G_h.column_labels es\\n\",G_h.column_labels)"
   ]
  },
  {
   "cell_type": "code",
   "execution_count": 37,
   "metadata": {},
   "outputs": [
    {
     "data": {
      "text/html": [
       "<div><div style = \"float: left;\"><span>7×5 DataFrame</span></div><div style = \"clear: both;\"></div></div><div class = \"data-frame\" style = \"overflow-x: scroll;\"><table class = \"data-frame\" style = \"margin-bottom: 6px;\"><thead><tr class = \"header\"><th class = \"rowNumber\" style = \"font-weight: bold; text-align: right;\">Row</th><th style = \"text-align: left;\">Food</th><th style = \"text-align: left;\">Protein </th><th style = \"text-align: left;\">Calcium </th><th style = \"text-align: left;\">Price per seving </th><th style = \"text-align: left;\">Limit per day </th></tr><tr class = \"subheader headerLastRow\"><th class = \"rowNumber\" style = \"font-weight: bold; text-align: right;\"></th><th title = \"Any\" style = \"text-align: left;\">Any</th><th title = \"Any\" style = \"text-align: left;\">Any</th><th title = \"Any\" style = \"text-align: left;\">Any</th><th title = \"Any\" style = \"text-align: left;\">Any</th><th title = \"Any\" style = \"text-align: left;\">Any</th></tr></thead><tbody><tr><td class = \"rowNumber\" style = \"font-weight: bold; text-align: right;\">1</td><td style = \"text-align: left;\">Oatmeal</td><td style = \"text-align: left;\">4.0</td><td style = \"text-align: left;\">2.0</td><td style = \"text-align: left;\">3.0</td><td style = \"text-align: left;\">4.0</td></tr><tr><td class = \"rowNumber\" style = \"font-weight: bold; text-align: right;\">2</td><td style = \"text-align: left;\">Chicken </td><td style = \"text-align: left;\">32.0</td><td style = \"text-align: left;\">12.0</td><td style = \"text-align: left;\">24.0</td><td style = \"text-align: left;\">3.0</td></tr><tr><td class = \"rowNumber\" style = \"font-weight: bold; text-align: right;\">3</td><td style = \"text-align: left;\">Eggs</td><td style = \"text-align: left;\">13.0</td><td style = \"text-align: left;\">54.0</td><td style = \"text-align: left;\">13.0</td><td style = \"text-align: left;\">2.0</td></tr><tr><td class = \"rowNumber\" style = \"font-weight: bold; text-align: right;\">4</td><td style = \"text-align: left;\">Whole milk </td><td style = \"text-align: left;\">8.0</td><td style = \"text-align: left;\">285.0</td><td style = \"text-align: left;\">9.0</td><td style = \"text-align: left;\">8.0</td></tr><tr><td class = \"rowNumber\" style = \"font-weight: bold; text-align: right;\">5</td><td style = \"text-align: left;\">Cherry pie </td><td style = \"text-align: left;\">4.0</td><td style = \"text-align: left;\">22.0</td><td style = \"text-align: left;\">20.0</td><td style = \"text-align: left;\">2.0</td></tr><tr><td class = \"rowNumber\" style = \"font-weight: bold; text-align: right;\">6</td><td style = \"text-align: left;\">Pork with beans </td><td style = \"text-align: left;\">14.0</td><td style = \"text-align: left;\">80.0</td><td style = \"text-align: left;\">19.0</td><td style = \"text-align: left;\">2.0</td></tr><tr><td class = \"rowNumber\" style = \"font-weight: bold; text-align: right;\">7</td><td style = \"text-align: left;\">Minimo </td><td style = \"text-align: left;\">55.0</td><td style = \"text-align: left;\">800.0</td><td style = \"font-style: italic; text-align: left;\">missing</td><td style = \"font-style: italic; text-align: left;\">missing</td></tr></tbody></table></div>"
      ],
      "text/latex": [
       "\\begin{tabular}{r|ccccc}\n",
       "\t& Food & Protein  & Calcium  & Price per seving  & Limit per day \\\\\n",
       "\t\\hline\n",
       "\t& Any & Any & Any & Any & Any\\\\\n",
       "\t\\hline\n",
       "\t1 & Oatmeal & 4.0 & 2.0 & 3.0 & 4.0 \\\\\n",
       "\t2 & Chicken  & 32.0 & 12.0 & 24.0 & 3.0 \\\\\n",
       "\t3 & Eggs & 13.0 & 54.0 & 13.0 & 2.0 \\\\\n",
       "\t4 & Whole milk  & 8.0 & 285.0 & 9.0 & 8.0 \\\\\n",
       "\t5 & Cherry pie  & 4.0 & 22.0 & 20.0 & 2.0 \\\\\n",
       "\t6 & Pork with beans  & 14.0 & 80.0 & 19.0 & 2.0 \\\\\n",
       "\t7 & Minimo  & 55.0 & 800.0 & \\emph{missing} & \\emph{missing} \\\\\n",
       "\\end{tabular}\n"
      ],
      "text/plain": [
       "\u001b[1m7×5 DataFrame\u001b[0m\n",
       "\u001b[1m Row \u001b[0m│\u001b[1m Food             \u001b[0m\u001b[1m Protein  \u001b[0m\u001b[1m Calcium  \u001b[0m\u001b[1m Price per seving  \u001b[0m\u001b[1m Limit per day \u001b[0m ⋯\n",
       "     │\u001b[90m Any              \u001b[0m\u001b[90m Any      \u001b[0m\u001b[90m Any      \u001b[0m\u001b[90m Any               \u001b[0m\u001b[90m Any           \u001b[0m ⋯\n",
       "─────┼──────────────────────────────────────────────────────────────────────────\n",
       "   1 │ Oatmeal           4.0       2.0       3.0                4.0            ⋯\n",
       "   2 │ Chicken           32.0      12.0      24.0               3.0\n",
       "   3 │ Eggs              13.0      54.0      13.0               2.0\n",
       "   4 │ Whole milk        8.0       285.0     9.0                8.0\n",
       "   5 │ Cherry pie        4.0       22.0      20.0               2.0            ⋯\n",
       "   6 │ Pork with beans   14.0      80.0      19.0               2.0\n",
       "   7 │ Minimo            55.0      800.0    \u001b[90m missing           \u001b[0m\u001b[90m missing       \u001b[0m"
      ]
     },
     "metadata": {},
     "output_type": "display_data"
    }
   ],
   "source": [
    "data_h = DataFrame(G_h);\n",
    "display(data_h)"
   ]
  },
  {
   "cell_type": "code",
   "execution_count": 38,
   "metadata": {},
   "outputs": [
    {
     "name": "stdout",
     "output_type": "stream",
     "text": [
      "Feasibility\n",
      "Subject to\n",
      "\n"
     ]
    },
    {
     "data": {
      "text/plain": [
       "3"
      ]
     },
     "metadata": {},
     "output_type": "display_data"
    }
   ],
   "source": [
    "###Creando el modelo en conjunto con el solver a usar\n",
    "modelo_h = Model(HiGHS.Optimizer) \n",
    "println(modelo_h)\n",
    "\n",
    "n=6\n",
    "m=3"
   ]
  },
  {
   "cell_type": "code",
   "execution_count": 39,
   "metadata": {},
   "outputs": [
    {
     "data": {
      "text/latex": [
       "CherryPie : $ x_{5} - 2 z \\leq 0.0 $"
      ],
      "text/plain": [
       "CherryPie : x[5] - 2 z <= 0.0"
      ]
     },
     "metadata": {},
     "output_type": "display_data"
    }
   ],
   "source": [
    "#variables de decision\n",
    "@variable(modelo_h, x[1:6]>=0,Int) #esto crea el arreglo [x[1] ,...,x[6]]\n",
    "#variable z binaria\n",
    "@variable(modelo_h, z, Bin) \n",
    "#agregamos las restricciones de nutrientes\n",
    "@constraint(modelo_h, protein[j in 2:3], sum(x[i]*data_h[i,j] for i in 1:6) >= data_h[7,j])\n",
    "#agregamos las restricciones de limite de servings per day\n",
    "@constraint(modelo_h, limit[i in 1:6],x[i]<=data_h[i,5])\n",
    "#agregamos restrccion para pork with beans\n",
    "@constraint(modelo_h, PorkWithBeans, x[6]<=data_h[6,5]*(1-z))\n",
    "#agregamos restrccion para cherry pie\n",
    "@constraint(modelo_h, CherryPie, x[5]<=data_h[5,5]*z)"
   ]
  },
  {
   "cell_type": "code",
   "execution_count": 40,
   "metadata": {},
   "outputs": [
    {
     "name": "stdout",
     "output_type": "stream",
     "text": [
      "Min 3 x[1] + 24 x[2] + 13 x[3] + 9 x[4] + 20 x[5] + 19 x[6]\n"
     ]
    },
    {
     "name": "stdout",
     "output_type": "stream",
     "text": [
      "Subject to\n",
      " protein[2] : 4 x[1] + 32 x[2] + 13 x[3] + 8 x[4] + 4 x[5] + 14 x[6] >= 55.0\n",
      " protein[3] : 2 x[1] + 12 x[2] + 54 x[3] + 285 x[4] + 22 x[5] + 80 x[6] >= 800.0\n",
      " limit[1] : x[1] <= 4.0\n",
      " limit[2] : x[2] <= 3.0\n",
      " limit[3] : x[3] <= 2.0\n",
      " limit[4] : x[4] <= 8.0\n",
      " limit[5] : x[5] <= 2.0\n",
      " limit[6] : x[6] <= 2.0\n",
      " PorkWithBeans : x[6] + 2 z <= 2.0\n",
      " CherryPie : x[5] - 2 z <= 0.0\n",
      " x[1] >= 0.0\n",
      " x[2] >= 0.0\n",
      " x[3] >= 0.0\n",
      " x[4] >= 0.0\n",
      " x[5] >= 0.0\n",
      " x[6] >= 0.0\n",
      " x[1] integer\n",
      " x[2] integer\n",
      " x[3] integer\n",
      " x[4] integer\n",
      " x[5] integer\n",
      " x[6] integer\n",
      " z binary\n",
      "\n"
     ]
    }
   ],
   "source": [
    "@objective(modelo_h, Min, sum(x[i]*data_h[i,4] for i in 1:6))\n",
    "println(modelo_h)"
   ]
  },
  {
   "cell_type": "code",
   "execution_count": 41,
   "metadata": {},
   "outputs": [
    {
     "name": "stdout",
     "output_type": "stream",
     "text": [
      "Running HiGHS 1.4.2 [date: 1970-01-01, git hash: f797c1ab6]\n",
      "Copyright (c) 2022 ERGO-Code under MIT licence terms\n",
      "Presolving model\n",
      "4 rows, 7 cols, 16 nonzeros\n",
      "4 rows, 7 cols, 16 nonzeros\n",
      "Objective function is integral with scale 1\n",
      "\n",
      "Solving MIP model with:\n",
      "   4 rows\n",
      "   7 cols (1 binary, 6 integer, 0 implied int., 0 continuous)\n",
      "   16 nonzeros\n",
      "\n",
      "        Nodes      |    B&B Tree     |            Objective Bounds              |  Dynamic Constraints |       Work      \n",
      "     Proc. InQueue |  Leaves   Expl. | BestBound       BestSol              Gap |   Cuts   InLp Confl. | LpIters     Time\n",
      "\n",
      "         0       0         0   0.00%   18              inf                  inf        0      0      0         0     0.0s\n",
      " S       0       0         0   0.00%   18              63                71.43%        0      0      0         0     0.0s\n",
      " R       0       0         0   0.00%   50.25           60                16.25%        0      0      0         3     0.0s\n",
      "\n",
      "14.3% inactive integer columns, restarting\n",
      "Model after restart has 1 rows, 5 cols (2 bin., 3 int., 0 impl., 0 cont.), and 5 nonzeros\n",
      "\n",
      "         0       0         0   0.00%   50.25           60                16.25%        0      0      0         3     0.0s\n",
      " R       0       0         0   0.00%   50.61290323     57                11.21%        0      0      0         3     0.0s\n",
      "\n",
      "20.0% inactive integer columns, restarting\n",
      "Model after restart has 1 rows, 4 cols (2 bin., 2 int., 0 impl., 0 cont.), and 4 nonzeros\n",
      "\n",
      "         0       0         0   0.00%   50.61290323     57                11.21%        0      0      0         3     0.0s\n",
      " R       0       0         0   0.00%   50.61290323     54                 6.27%        0      0      0         3     0.0s\n",
      " T       0       0         0   0.00%   50.61290323     51                 0.76%        0      0      0         3     0.0s\n",
      "\n",
      "Solving report\n",
      "  Status            Optimal\n",
      "  Primal bound      51\n",
      "  Dual bound        51\n",
      "  Gap               0% (tolerance: 0.01%)\n",
      "  Solution status   feasible\n",
      "                    51 (objective)\n",
      "                    0 (bound viol.)\n",
      "                    0 (int. viol.)\n",
      "                    0 (row viol.)\n",
      "  Timing            0.00 (total)\n",
      "                    0.00 (presolve)\n",
      "                    0.00 (postsolve)\n",
      "  Nodes             1\n",
      "  LP iterations     3 (total)\n",
      "                    0 (strong br.)\n",
      "                    0 (separation)\n",
      "                    0 (heuristics)\n",
      "Optimal value: 51.0\n"
     ]
    }
   ],
   "source": [
    "# Resolver el problema de optimización con HiGHS\n",
    "optimize!(modelo_h)\n",
    "\n",
    "println(\"Optimal value: \", objective_value(modelo_h))"
   ]
  },
  {
   "cell_type": "code",
   "execution_count": 42,
   "metadata": {},
   "outputs": [
    {
     "name": "stdout",
     "output_type": "stream",
     "text": [
      "El valor de x[1] es 0.0\n",
      "El valor de x[2] es 1.0\n",
      "El valor de x[3] es 0.0\n",
      "El valor de x[4] es 3.0\n",
      "El valor de x[5] es 0.0\n",
      "El valor de x[6] es 0.0\n"
     ]
    }
   ],
   "source": [
    "for i in 1:6\n",
    "    println(\"El valor de $(x[i]) es \",value(x[i]))\n",
    "end"
   ]
  },
  {
   "cell_type": "code",
   "execution_count": null,
   "metadata": {},
   "outputs": [],
   "source": [
    "#Parte i)"
   ]
  },
  {
   "cell_type": "code",
   "execution_count": 43,
   "metadata": {},
   "outputs": [
    {
     "name": "stdout",
     "output_type": "stream",
     "text": [
      "El tipo de G_i es\n",
      "XLSX.DataTable\n",
      "\n",
      "G_i.data es\n",
      "Any[Any[\"Oatmeal\", \"Chicken \", \"Eggs\", \"Whole milk \", \"Cherry pie \", \"Pork with beans \", \"Minimo \"], Any[4.0, 32.0, 13.0, 8.0, 4.0, 14.0, 55.0], Any[2.0, 12.0, 54.0, 285.0, 22.0, 80.0, 800.0], Any[3.0, 24.0, 13.0, 9.0, 20.0, 19.0, missing], Any[4.0, 3.0, 2.0, 8.0, 2.0, 2.0, missing]]\n",
      "\n",
      "G_i.column_labels es\n",
      "[:Food, Symbol(\"Protein \"), Symbol(\"Calcium \"), Symbol(\"Price per seving \"), Symbol(\"Limit per day \")]"
     ]
    },
    {
     "name": "stdout",
     "output_type": "stream",
     "text": [
      "\n"
     ]
    }
   ],
   "source": [
    "#Cargamos los datos \n",
    "G_i=XLSX.readtable(\"DietProblemPolly.xlsx\",\"Data\")\n",
    "### Tipo de G_i\n",
    "println(\"El tipo de G_i es\\n\",typeof(G_i),\"\\n\")\n",
    "### G_i tiene dos componentes: G_i.data y G_i.column_labels\n",
    "println(\"G_i.data es\\n\",G_i.data,\"\\n\")\n",
    "println(\"G_i.column_labels es\\n\",G_i.column_labels)"
   ]
  },
  {
   "cell_type": "code",
   "execution_count": 44,
   "metadata": {},
   "outputs": [
    {
     "data": {
      "text/html": [
       "<div><div style = \"float: left;\"><span>7×5 DataFrame</span></div><div style = \"clear: both;\"></div></div><div class = \"data-frame\" style = \"overflow-x: scroll;\"><table class = \"data-frame\" style = \"margin-bottom: 6px;\"><thead><tr class = \"header\"><th class = \"rowNumber\" style = \"font-weight: bold; text-align: right;\">Row</th><th style = \"text-align: left;\">Food</th><th style = \"text-align: left;\">Protein </th><th style = \"text-align: left;\">Calcium </th><th style = \"text-align: left;\">Price per seving </th><th style = \"text-align: left;\">Limit per day </th></tr><tr class = \"subheader headerLastRow\"><th class = \"rowNumber\" style = \"font-weight: bold; text-align: right;\"></th><th title = \"Any\" style = \"text-align: left;\">Any</th><th title = \"Any\" style = \"text-align: left;\">Any</th><th title = \"Any\" style = \"text-align: left;\">Any</th><th title = \"Any\" style = \"text-align: left;\">Any</th><th title = \"Any\" style = \"text-align: left;\">Any</th></tr></thead><tbody><tr><td class = \"rowNumber\" style = \"font-weight: bold; text-align: right;\">1</td><td style = \"text-align: left;\">Oatmeal</td><td style = \"text-align: left;\">4.0</td><td style = \"text-align: left;\">2.0</td><td style = \"text-align: left;\">3.0</td><td style = \"text-align: left;\">4.0</td></tr><tr><td class = \"rowNumber\" style = \"font-weight: bold; text-align: right;\">2</td><td style = \"text-align: left;\">Chicken </td><td style = \"text-align: left;\">32.0</td><td style = \"text-align: left;\">12.0</td><td style = \"text-align: left;\">24.0</td><td style = \"text-align: left;\">3.0</td></tr><tr><td class = \"rowNumber\" style = \"font-weight: bold; text-align: right;\">3</td><td style = \"text-align: left;\">Eggs</td><td style = \"text-align: left;\">13.0</td><td style = \"text-align: left;\">54.0</td><td style = \"text-align: left;\">13.0</td><td style = \"text-align: left;\">2.0</td></tr><tr><td class = \"rowNumber\" style = \"font-weight: bold; text-align: right;\">4</td><td style = \"text-align: left;\">Whole milk </td><td style = \"text-align: left;\">8.0</td><td style = \"text-align: left;\">285.0</td><td style = \"text-align: left;\">9.0</td><td style = \"text-align: left;\">8.0</td></tr><tr><td class = \"rowNumber\" style = \"font-weight: bold; text-align: right;\">5</td><td style = \"text-align: left;\">Cherry pie </td><td style = \"text-align: left;\">4.0</td><td style = \"text-align: left;\">22.0</td><td style = \"text-align: left;\">20.0</td><td style = \"text-align: left;\">2.0</td></tr><tr><td class = \"rowNumber\" style = \"font-weight: bold; text-align: right;\">6</td><td style = \"text-align: left;\">Pork with beans </td><td style = \"text-align: left;\">14.0</td><td style = \"text-align: left;\">80.0</td><td style = \"text-align: left;\">19.0</td><td style = \"text-align: left;\">2.0</td></tr><tr><td class = \"rowNumber\" style = \"font-weight: bold; text-align: right;\">7</td><td style = \"text-align: left;\">Minimo </td><td style = \"text-align: left;\">55.0</td><td style = \"text-align: left;\">800.0</td><td style = \"font-style: italic; text-align: left;\">missing</td><td style = \"font-style: italic; text-align: left;\">missing</td></tr></tbody></table></div>"
      ],
      "text/latex": [
       "\\begin{tabular}{r|ccccc}\n",
       "\t& Food & Protein  & Calcium  & Price per seving  & Limit per day \\\\\n",
       "\t\\hline\n",
       "\t& Any & Any & Any & Any & Any\\\\\n",
       "\t\\hline\n",
       "\t1 & Oatmeal & 4.0 & 2.0 & 3.0 & 4.0 \\\\\n",
       "\t2 & Chicken  & 32.0 & 12.0 & 24.0 & 3.0 \\\\\n",
       "\t3 & Eggs & 13.0 & 54.0 & 13.0 & 2.0 \\\\\n",
       "\t4 & Whole milk  & 8.0 & 285.0 & 9.0 & 8.0 \\\\\n",
       "\t5 & Cherry pie  & 4.0 & 22.0 & 20.0 & 2.0 \\\\\n",
       "\t6 & Pork with beans  & 14.0 & 80.0 & 19.0 & 2.0 \\\\\n",
       "\t7 & Minimo  & 55.0 & 800.0 & \\emph{missing} & \\emph{missing} \\\\\n",
       "\\end{tabular}\n"
      ],
      "text/plain": [
       "\u001b[1m7×5 DataFrame\u001b[0m\n",
       "\u001b[1m Row \u001b[0m│\u001b[1m Food             \u001b[0m\u001b[1m Protein  \u001b[0m\u001b[1m Calcium  \u001b[0m\u001b[1m Price per seving  \u001b[0m\u001b[1m Limit per day \u001b[0m ⋯\n",
       "     │\u001b[90m Any              \u001b[0m\u001b[90m Any      \u001b[0m\u001b[90m Any      \u001b[0m\u001b[90m Any               \u001b[0m\u001b[90m Any           \u001b[0m ⋯\n",
       "─────┼──────────────────────────────────────────────────────────────────────────\n",
       "   1 │ Oatmeal           4.0       2.0       3.0                4.0            ⋯\n",
       "   2 │ Chicken           32.0      12.0      24.0               3.0\n",
       "   3 │ Eggs              13.0      54.0      13.0               2.0\n",
       "   4 │ Whole milk        8.0       285.0     9.0                8.0\n",
       "   5 │ Cherry pie        4.0       22.0      20.0               2.0            ⋯\n",
       "   6 │ Pork with beans   14.0      80.0      19.0               2.0\n",
       "   7 │ Minimo            55.0      800.0    \u001b[90m missing           \u001b[0m\u001b[90m missing       \u001b[0m"
      ]
     },
     "metadata": {},
     "output_type": "display_data"
    }
   ],
   "source": [
    "data_i = DataFrame(G_i);\n",
    "display(data_i)"
   ]
  },
  {
   "cell_type": "code",
   "execution_count": 45,
   "metadata": {},
   "outputs": [
    {
     "name": "stdout",
     "output_type": "stream",
     "text": [
      "Feasibility\n",
      "Subject to\n",
      "\n"
     ]
    },
    {
     "data": {
      "text/plain": [
       "1"
      ]
     },
     "metadata": {},
     "output_type": "display_data"
    }
   ],
   "source": [
    "###Creando el modelo en conjunto con el solver a usar\n",
    "modelo_i = Model(HiGHS.Optimizer) \n",
    "println(modelo_i)\n",
    "\n",
    "n=6\n",
    "m=2\n",
    "T=1"
   ]
  },
  {
   "cell_type": "code",
   "execution_count": 46,
   "metadata": {},
   "outputs": [
    {
     "data": {
      "text/latex": [
       "Trequerimientos : $ z_{1} + z_{2} \\geq 1.0 $"
      ],
      "text/plain": [
       "Trequerimientos : z[1] + z[2] >= 1.0"
      ]
     },
     "metadata": {},
     "output_type": "display_data"
    }
   ],
   "source": [
    "#variables de decision en que comidas comprar y cantidad\n",
    "@variable(modelo_i, x[1:6]>=0,Int) #esto crea el arreglo [x[1] ,...,x[6]]\n",
    "#variable binaria z\n",
    "@variable(modelo_i, z[1:2],Bin)\n",
    "#agregamos las restricciones de nutrientes por la variable z que me dice si se debe cumplir o no ese requerimiento\n",
    "@constraint(modelo_i, protein[j in 2:3], sum(x[i]*data_i[i,j] for i in 1:6) >= data_i[7,j]*z[j-1])\n",
    "#agregamos las restricciones de limite de servings per day\n",
    "@constraint(modelo_i, limit[i in 1:6],x[i]<=data_i[i,5])\n",
    "#agregamos la restriccion de que al menos T requerimientos se deben cumplir\n",
    "@constraint(modelo_i, Trequerimientos, sum(z[k] for k in 1:2)>=T)"
   ]
  },
  {
   "cell_type": "code",
   "execution_count": 47,
   "metadata": {},
   "outputs": [
    {
     "name": "stdout",
     "output_type": "stream",
     "text": [
      "Min 3 x[1] + 24 x[2] + 13 x[3] + 9 x[4] + 20 x[5] + 19 x[6]\n",
      "Subject to\n",
      " protein[2] : 4 x[1] + 32 x[2] + 13 x[3] + 8 x[4] + 4 x[5] + 14 x[6] - 55 z[1] >= 0.0\n",
      " protein[3] : 2 x[1] + 12 x[2] + 54 x[3] + 285 x[4] + 22 x[5] + 80 x[6] - 800 z[2] >= 0.0\n",
      " Trequerimientos : z[1] + z[2] >= 1.0\n",
      " limit[1] : x[1] <= 4.0\n",
      " limit[2] : x[2] <= 3.0\n",
      " limit[3] : x[3] <= 2.0\n",
      " limit[4] : x[4] <= 8.0\n",
      " "
     ]
    },
    {
     "name": "stdout",
     "output_type": "stream",
     "text": [
      "limit[5] : x[5] <= 2.0\n",
      " limit[6] : x[6] <= 2.0\n",
      " x[1] >= 0.0\n",
      " x[2] >= 0.0\n",
      " x[3] >= 0.0\n",
      " x[4] >= 0.0\n",
      " x[5] >= 0.0\n",
      " x[6] >= 0.0\n",
      " x[1] integer\n",
      " x[2] integer\n",
      " x[3] integer\n",
      " x[4] integer\n",
      " x[5] integer\n",
      " x[6] integer\n",
      " z[1] binary\n",
      " z[2] binary\n",
      "\n"
     ]
    }
   ],
   "source": [
    "@objective(modelo_i, Min, sum(x[i]*data_i[i,4] for i in 1:6))\n",
    "println(modelo_i)"
   ]
  },
  {
   "cell_type": "code",
   "execution_count": 48,
   "metadata": {},
   "outputs": [
    {
     "name": "stdout",
     "output_type": "stream",
     "text": [
      "Running HiGHS 1.4.2 [date: 1970-01-01, git hash: f797c1ab6]\n",
      "Copyright (c) 2022 ERGO-Code under MIT licence terms\n",
      "Presolving model\n",
      "3 rows, 8 cols, 16 nonzeros\n",
      "3 rows, 8 cols, 16 nonzeros\n",
      "Objective function is integral with scale 1\n",
      "\n",
      "Solving MIP model with:\n",
      "   3 rows\n",
      "   8 cols (2 binary, 6 integer, 0 implied int., 0 continuous)\n",
      "   16 nonzeros\n",
      "\n",
      "        Nodes      |    B&B Tree     |            Objective Bounds              |  Dynamic Constraints |       Work      \n",
      "     Proc. InQueue |  Leaves   Expl. | BestBound       BestSol              Gap |   Cuts   InLp Confl. | LpIters     Time\n",
      "\n",
      "         0       0         0   0.00%   0               inf                  inf        0      0      0         0     0.0s\n",
      "\n",
      "Solving report\n",
      "  Status            Optimal\n",
      "  Primal bound      27\n",
      "  Dual bound        27\n",
      "  Gap               0% (tolerance: 0.01%)\n",
      "  Solution status   feasible\n",
      "                    27 (objective)\n",
      "                    0 (bound viol.)\n",
      "                    0 (int. viol.)\n",
      "                    0 (row viol.)\n",
      "  Timing            0.00 (total)\n",
      "                    0.00 (presolve)\n",
      "                    0.00 (postsolve)\n",
      "  Nodes             1\n",
      "  LP iterations     3 (total)\n",
      "                    0 (strong br.)\n",
      "                    0 (separation)\n",
      "                    0 (heuristics)\n",
      "Optimal value: 27.0\n"
     ]
    }
   ],
   "source": [
    "# Resolver el problema de optimización con HiGHS\n",
    "optimize!(modelo_i)\n",
    "\n",
    "println(\"Optimal value: \", objective_value(modelo_i))"
   ]
  },
  {
   "cell_type": "code",
   "execution_count": 49,
   "metadata": {},
   "outputs": [
    {
     "name": "stdout",
     "output_type": "stream",
     "text": [
      "El valor de x[1] es 0.0\n",
      "El valor de x[2] es 0.0\n",
      "El valor de x[3] es 0.0\n",
      "El valor de x[4] es 3.0\n",
      "El valor de x[5] es 0.0\n",
      "El valor de x[6] es 0.0\n"
     ]
    }
   ],
   "source": [
    "for i in 1:6\n",
    "    println(\"El valor de $(x[i]) es \",value(x[i]))\n",
    "end"
   ]
  }
 ],
 "metadata": {
  "kernelspec": {
   "display_name": "Julia 1.8.5",
   "language": "julia",
   "name": "julia-1.8"
  },
  "language_info": {
   "file_extension": ".jl",
   "mimetype": "application/julia",
   "name": "julia",
   "version": "1.8.5"
  },
  "orig_nbformat": 4
 },
 "nbformat": 4,
 "nbformat_minor": 2
}
